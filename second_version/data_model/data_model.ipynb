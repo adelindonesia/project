{
 "cells": [
  {
   "attachments": {},
   "cell_type": "markdown",
   "metadata": {},
   "source": [
    "# Data Modelling"
   ]
  },
  {
   "cell_type": "code",
   "execution_count": 1,
   "metadata": {},
   "outputs": [],
   "source": [
    "import pandas as pd\n",
    "import os\n",
    "\n",
    "from sklearn.model_selection import train_test_split\n",
    "from sklearn.linear_model import LinearRegression"
   ]
  },
  {
   "attachments": {},
   "cell_type": "markdown",
   "metadata": {},
   "source": [
    "### Get the Data"
   ]
  },
  {
   "cell_type": "code",
   "execution_count": 2,
   "metadata": {},
   "outputs": [],
   "source": [
    "all_nyc_files = []\n",
    "all_sao_files = []\n",
    "\n",
    "def get_files(destination: str=\"nyc\", file_names: list = all_nyc_files) -> list:\n",
    "    \"\"\"\n",
    "    This function retrieves the names of all .csv files in a specified directory.\n",
    "\n",
    "    Args:\n",
    "    -----\n",
    "    destination (str): The destination city for which to retrieve the file names. \n",
    "    (Default sets to \"nyc\")\n",
    "    \n",
    "    file_names (list): The list to populate with the file names. \n",
    "    (Default sets to all_nyc_files)\n",
    "    \n",
    "    Return:\n",
    "    -------\n",
    "    list: A list of file names for all .csv files in the specified directory.\n",
    "    \"\"\"\n",
    "\n",
    "    file_path = f'..\\\\webscraping\\\\bxl_to_{destination}'\n",
    "\n",
    "    for file_name in os.listdir(file_path):\n",
    "        # Split the file name into a base name and an extension\n",
    "        base_name, extension = os.path.splitext(file_name)\n",
    "        \n",
    "        # Check if the file has a .csv extension\n",
    "        if extension == '.csv':\n",
    "            # Append the file name to the list\n",
    "            file_names.append(file_name)\n",
    "        \n",
    "    return(file_names)\n",
    " \n",
    "all_nyc_files = get_files()\n",
    "all_sao_files = get_files(destination=\"sao\", file_names=all_sao_files)"
   ]
  },
  {
   "cell_type": "code",
   "execution_count": 3,
   "metadata": {},
   "outputs": [],
   "source": [
    "def read_csv_files(destination: str = \"nyc\", file_names: list[str] = all_nyc_files, result = None):\n",
    "    \"\"\"\n",
    "    This function concatenates multiple CSV files into a single DataFrame. \n",
    "    If the result is None, it creates a list of DataFrames from the CSV files and concatenates them. \n",
    "    If the result is not None, it appends the DataFrames from the CSV files to the result.\n",
    "\n",
    "    Args:\n",
    "    -----\n",
    "    result : The DataFrame to append the data to. If None, a new DataFrame is created.\n",
    " \n",
    "    dates (list): The list of dates to use for the filenames of the CSV files.\n",
    "    \n",
    "    destination (str): The destination to use for the filenames of the CSV files.\n",
    " \n",
    "    Return:\n",
    "    -------\n",
    "    DataFrame: The concatenated DataFrame.\n",
    "    \"\"\"\n",
    "    if result is None:\n",
    "        dfs = []\n",
    "        for name in file_names:\n",
    "            file_path = f\"..\\\\webscraping\\\\bxl_to_{destination}\\\\{name}\"\n",
    "            df = pd.read_csv(file_path)\n",
    "            dfs.append(df)\n",
    "        result = pd.concat(dfs, axis=0, ignore_index=True)\n",
    "    else:\n",
    "        for name in file_names:\n",
    "            filename = f\"..\\\\webscraping\\\\bxl_to_{destination}\\\\booking_{name}.csv\"\n",
    "            df = pd.read_csv(filename)\n",
    "            result = pd.concat([result, df], axis=0, ignore_index=True)\n",
    "    return result\n"
   ]
  },
  {
   "cell_type": "code",
   "execution_count": 4,
   "metadata": {},
   "outputs": [],
   "source": [
    "def transfomed_df(df):\n",
    "    \"\"\"\n",
    "    This function transforms a DataFrame by splitting and renaming columns, \n",
    "    converting data types, and applying functions to columns.\n",
    "\n",
    "    Args:\n",
    "    -----\n",
    "    df : The DataFrame to transform.\n",
    " \n",
    "    Return:\n",
    "    -------\n",
    "    DataFrame: The transformed DataFrame.\n",
    "    \"\"\"\n",
    "\n",
    "    air_cols = [col for col in df.columns if col.endswith('_airline_company')]\n",
    "    df[air_cols] = df[air_cols].astype(str)\n",
    "    df[air_cols] = df[air_cols].apply(lambda x: x.str.split(\",\").str[0])\n",
    "    \n",
    "    df['out_stop_num'] = df['out_stop_num'].str.split(' ').str[0]\n",
    "    df['in_stop_num'] = df['in_stop_num'].str.split(' ').str[0]\n",
    "\n",
    "    split_df = df.pop('price_ticket').str.rsplit(' ', n=1, expand=True).rename(columns={0: 'ticket_price', 1: 'currency'})\n",
    "    df = df.join(split_df)\n",
    "    df['ticket_price'] = df['ticket_price'].str.replace(',', '.').str.replace(' ', '').astype(float)\n",
    "\n",
    "    date_cols = [col for col in df.columns if col.endswith('_date')]\n",
    "    year= '2023'\n",
    "    for col in date_cols:\n",
    "        df[col] = pd.to_datetime(df[col] + ' ' + year, format='%b %d %Y')\n",
    "    \n",
    "    time_cols = [col for col in df.columns if col.endswith('_time')]\n",
    "    df[time_cols] = df[time_cols].apply(lambda x: pd.to_datetime(x, format='%I:%M %p').dt.strftime('%H:%M'))\n",
    "\n",
    "    duration_cols = [col for col in df.columns if col.endswith('_duration')]\n",
    "    df[duration_cols] = df[duration_cols].applymap(lambda x: pd.to_timedelta(x.replace('h', ' hours ').replace('m', ' min')))\n",
    "\n",
    "    df['tot_duration'] = df[\"out_duration\"] + df[\"in_duration\"]\n",
    "    \n",
    "\n",
    "    return df"
   ]
  },
  {
   "cell_type": "code",
   "execution_count": 6,
   "metadata": {},
   "outputs": [
    {
     "ename": "AttributeError",
     "evalue": "'DataFrame' object has no attribute 'concat'",
     "output_type": "error",
     "traceback": [
      "\u001b[1;31m---------------------------------------------------------------------------\u001b[0m",
      "\u001b[1;31mAttributeError\u001b[0m                            Traceback (most recent call last)",
      "Cell \u001b[1;32mIn[6], line 14\u001b[0m\n\u001b[0;32m     11\u001b[0m df2 \u001b[39m=\u001b[39m df2\u001b[39m.\u001b[39mreset_index(drop\u001b[39m=\u001b[39m\u001b[39mTrue\u001b[39;00m)\n\u001b[0;32m     13\u001b[0m \u001b[39m# merge dataframe\u001b[39;00m\n\u001b[1;32m---> 14\u001b[0m df \u001b[39m=\u001b[39m df1\u001b[39m.\u001b[39;49mconcat(df2)\n",
      "File \u001b[1;32mc:\\Users\\Adeli\\AppData\\Local\\Programs\\Python\\Python311\\Lib\\site-packages\\pandas\\core\\generic.py:5902\u001b[0m, in \u001b[0;36mNDFrame.__getattr__\u001b[1;34m(self, name)\u001b[0m\n\u001b[0;32m   5895\u001b[0m \u001b[39mif\u001b[39;00m (\n\u001b[0;32m   5896\u001b[0m     name \u001b[39mnot\u001b[39;00m \u001b[39min\u001b[39;00m \u001b[39mself\u001b[39m\u001b[39m.\u001b[39m_internal_names_set\n\u001b[0;32m   5897\u001b[0m     \u001b[39mand\u001b[39;00m name \u001b[39mnot\u001b[39;00m \u001b[39min\u001b[39;00m \u001b[39mself\u001b[39m\u001b[39m.\u001b[39m_metadata\n\u001b[0;32m   5898\u001b[0m     \u001b[39mand\u001b[39;00m name \u001b[39mnot\u001b[39;00m \u001b[39min\u001b[39;00m \u001b[39mself\u001b[39m\u001b[39m.\u001b[39m_accessors\n\u001b[0;32m   5899\u001b[0m     \u001b[39mand\u001b[39;00m \u001b[39mself\u001b[39m\u001b[39m.\u001b[39m_info_axis\u001b[39m.\u001b[39m_can_hold_identifiers_and_holds_name(name)\n\u001b[0;32m   5900\u001b[0m ):\n\u001b[0;32m   5901\u001b[0m     \u001b[39mreturn\u001b[39;00m \u001b[39mself\u001b[39m[name]\n\u001b[1;32m-> 5902\u001b[0m \u001b[39mreturn\u001b[39;00m \u001b[39mobject\u001b[39;49m\u001b[39m.\u001b[39;49m\u001b[39m__getattribute__\u001b[39;49m(\u001b[39mself\u001b[39;49m, name)\n",
      "\u001b[1;31mAttributeError\u001b[0m: 'DataFrame' object has no attribute 'concat'"
     ]
    }
   ],
   "source": [
    "# Get the dataframe for ncy\n",
    "df1 = read_csv_files()\n",
    "df1 = transfomed_df(df1)\n",
    "df1 = df1.dropna()\n",
    "df1 = df1.reset_index(drop=True)\n",
    "\n",
    "# Get the dataframe for sao\n",
    "df2 = read_csv_files(destination=\"sao\", file_names=all_sao_files)\n",
    "df2 = transfomed_df(df2)\n",
    "df2 = df2.dropna()\n",
    "df2 = df2.reset_index(drop=True)\n",
    "\n",
    "# merge dataframe\n",
    "df = df1.concat(df2)"
   ]
  },
  {
   "cell_type": "code",
   "execution_count": null,
   "metadata": {},
   "outputs": [],
   "source": []
  }
 ],
 "metadata": {
  "kernelspec": {
   "display_name": "Python 3",
   "language": "python",
   "name": "python3"
  },
  "language_info": {
   "codemirror_mode": {
    "name": "ipython",
    "version": 3
   },
   "file_extension": ".py",
   "mimetype": "text/x-python",
   "name": "python",
   "nbconvert_exporter": "python",
   "pygments_lexer": "ipython3",
   "version": "3.11.1"
  },
  "orig_nbformat": 4
 },
 "nbformat": 4,
 "nbformat_minor": 2
}
