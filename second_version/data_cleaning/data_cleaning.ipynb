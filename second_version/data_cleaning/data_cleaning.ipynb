{
 "cells": [
  {
   "attachments": {},
   "cell_type": "markdown",
   "metadata": {},
   "source": [
    "# DATA CLEANING"
   ]
  },
  {
   "attachments": {},
   "cell_type": "markdown",
   "metadata": {},
   "source": [
    "## Setting-up"
   ]
  },
  {
   "cell_type": "code",
   "execution_count": 1,
   "metadata": {},
   "outputs": [],
   "source": [
    "import pandas as pd\n",
    "import datetime"
   ]
  },
  {
   "attachments": {},
   "cell_type": "markdown",
   "metadata": {},
   "source": [
    "## Functions"
   ]
  },
  {
   "cell_type": "code",
   "execution_count": 2,
   "metadata": {},
   "outputs": [],
   "source": [
    "cur_time = datetime.datetime.now()\n",
    "day = cur_time.day\n",
    "hour = cur_time.strftime(\"%I\")\n",
    "hour_spe = cur_time.strftime(\"%p\")\n",
    "\n",
    "dates = [\"20_may_04_PM\", \"20_may_06_PM\", \"20_may_08_PM\", \"20_may_10_PM\"]\n",
    "dates.extend([\"21_may_08_AM\", \"21_may_10_AM\", \"21_may_12_PM\", \"21_may_02_PM\", \"21_may_04_PM\", \"21_may_06_PM\", \"21_may_08_PM\", \"21_may_10_PM\"])\n",
    "dates.extend([\"22_may_08_AM\", \"22_may_10_AM\", \"22_may_12_PM\", \"22_may_02_PM\", \"22_may_04_PM\", \"22_may_06_PM\", \"22_may_08_PM\", \"22_may_10_PM\"])\n",
    "dates.extend([\"23_may_08_AM\", \"23_may_10_AM\", \"23_may_12_PM\", \"23_may_02_PM\",  \"23_may_06_PM\", \"23_may_08_PM\", \"23_may_10_PM\"])\n",
    "dates.extend([\"24_may_08_AM\", \"24_may_10_AM\", \"24_may_12_PM\", \"24_may_02_PM\", \"24_may_04_PM\", \"24_may_06_PM\", \"24_may_08_PM\", \"24_may_10_PM\"])\n",
    "dates.extend([\"25_may_08_AM\"])\n",
    "# date = f'{day}_may_{hour}_{hour_spe}'\n",
    "# dates.extend([date])\n",
    "\n",
    "def read_csv_files(destination: str = \"nyc\", date_file: list[str] = dates, result=None):\n",
    "    \"\"\"\n",
    "    This function concatenates multiple CSV files into a single DataFrame. \n",
    "    If the result is None, it creates a list of DataFrames from the CSV files and concatenates them. \n",
    "    If the result is not None, it appends the DataFrames from the CSV files to the result.\n",
    "\n",
    "    Args:\n",
    "    -----\n",
    "    result : The DataFrame to append the data to. If None, a new DataFrame is created.\n",
    " \n",
    "    dates (list): The list of dates to use for the filenames of the CSV files.\n",
    "    \n",
    "    destination (str): The destination to use for the filenames of the CSV files.\n",
    " \n",
    "    Return:\n",
    "    -------\n",
    "    DataFrame: The concatenated DataFrame.\n",
    "    \"\"\"\n",
    "    if result is None:\n",
    "        dfs = []\n",
    "        for date in date_file:\n",
    "            filename = f\"..\\\\webscraping\\\\bxl_to_{destination}\\\\booking_{date}.csv\"\n",
    "            df = pd.read_csv(filename)\n",
    "            dfs.append(df)\n",
    "        result = pd.concat(dfs, axis=0, ignore_index=True)\n",
    "    else:\n",
    "        for date in date_file:\n",
    "            filename = f\"..\\\\webscraping\\\\bxl_to_{destination}\\\\booking_{date}.csv\"\n",
    "            df = pd.read_csv(filename)\n",
    "            result = pd.concat([result, df], axis=0, ignore_index=True)\n",
    "    return result"
   ]
  },
  {
   "cell_type": "code",
   "execution_count": 3,
   "metadata": {},
   "outputs": [
    {
     "data": {
      "text/plain": [
       "['20_may_04_PM',\n",
       " '20_may_06_PM',\n",
       " '20_may_08_PM',\n",
       " '20_may_10_PM',\n",
       " '21_may_08_AM',\n",
       " '21_may_10_AM',\n",
       " '21_may_12_PM',\n",
       " '21_may_02_PM',\n",
       " '21_may_04_PM',\n",
       " '21_may_06_PM',\n",
       " '21_may_08_PM',\n",
       " '21_may_10_PM',\n",
       " '22_may_08_AM',\n",
       " '22_may_10_AM',\n",
       " '22_may_12_PM',\n",
       " '22_may_02_PM',\n",
       " '22_may_04_PM',\n",
       " '22_may_06_PM',\n",
       " '22_may_08_PM',\n",
       " '22_may_10_PM',\n",
       " '23_may_08_AM',\n",
       " '23_may_10_AM',\n",
       " '23_may_12_PM',\n",
       " '23_may_02_PM',\n",
       " '23_may_06_PM',\n",
       " '23_may_08_PM',\n",
       " '23_may_10_PM',\n",
       " '24_may_08_AM',\n",
       " '24_may_10_AM',\n",
       " '24_may_12_PM',\n",
       " '24_may_02_PM',\n",
       " '24_may_04_PM',\n",
       " '24_may_06_PM',\n",
       " '24_may_08_PM',\n",
       " '24_may_10_PM',\n",
       " '25_may_08_AM']"
      ]
     },
     "execution_count": 3,
     "metadata": {},
     "output_type": "execute_result"
    }
   ],
   "source": [
    "dates"
   ]
  },
  {
   "cell_type": "code",
   "execution_count": 4,
   "metadata": {},
   "outputs": [],
   "source": [
    "def transfomed_df(df):\n",
    "    \"\"\"\n",
    "    This function transforms a DataFrame by splitting and renaming columns, \n",
    "    converting data types, and applying functions to columns.\n",
    "\n",
    "    Args:\n",
    "    -----\n",
    "    df : The DataFrame to transform.\n",
    " \n",
    "    Return:\n",
    "    -------\n",
    "    DataFrame: The transformed DataFrame.\n",
    "    \"\"\"\n",
    "\n",
    "    air_cols = [col for col in df.columns if col.endswith('_airline_company')]\n",
    "    df[air_cols] = df[air_cols].astype(str)\n",
    "    df[air_cols] = df[air_cols].apply(lambda x: x.str.split(\",\").str[0])\n",
    "    \n",
    "    df['out_stop_num'] = df['out_stop_num'].str.split(' ').str[0]\n",
    "    df['in_stop_num'] = df['in_stop_num'].str.split(' ').str[0]\n",
    "\n",
    "    split_df = df.pop('price_ticket').str.rsplit(' ', n=1, expand=True).rename(columns={0: 'ticket_price', 1: 'currency'})\n",
    "    df = df.join(split_df)\n",
    "    df['ticket_price'] = df['ticket_price'].str.replace(',', '.').str.replace(' ', '').astype(float)\n",
    "\n",
    "    date_cols = [col for col in df.columns if col.endswith('_date')]\n",
    "    year= '2023'\n",
    "    for col in date_cols:\n",
    "        df[col] = pd.to_datetime(df[col] + ' ' + year, format='%b %d %Y')\n",
    "    \n",
    "    time_cols = [col for col in df.columns if col.endswith('_time')]\n",
    "    df[time_cols] = df[time_cols].apply(lambda x: pd.to_datetime(x, format='%I:%M %p').dt.strftime('%H:%M'))\n",
    "\n",
    "    duration_cols = [col for col in df.columns if col.endswith('_duration')]\n",
    "    df[duration_cols] = df[duration_cols].applymap(lambda x: pd.to_timedelta(x.replace('h', ' hours ').replace('m', ' min')))\n",
    "\n",
    "    return df"
   ]
  },
  {
   "attachments": {},
   "cell_type": "markdown",
   "metadata": {},
   "source": [
    "## Clean data from bxl_to_nyc folder"
   ]
  },
  {
   "cell_type": "code",
   "execution_count": 5,
   "metadata": {},
   "outputs": [],
   "source": [
    "df1 = read_csv_files()\n",
    "df1 = transfomed_df(df1)"
   ]
  },
  {
   "cell_type": "code",
   "execution_count": 6,
   "metadata": {},
   "outputs": [],
   "source": [
    "# df1 = df1.drop_duplicates()\n",
    "df1 = df1.dropna()\n",
    "df1 = df1.reset_index(drop=True)"
   ]
  },
  {
   "attachments": {},
   "cell_type": "markdown",
   "metadata": {},
   "source": [
    "## Clean data from bxl_to_sao"
   ]
  },
  {
   "cell_type": "code",
   "execution_count": 7,
   "metadata": {},
   "outputs": [],
   "source": [
    "df2 = read_csv_files(destination=\"sao\")\n",
    "df2 = transfomed_df(df2)\n",
    "# df2 = df2.drop_duplicates()\n",
    "df2 = df2.dropna()\n",
    "df2 = df2.reset_index(drop=True)"
   ]
  }
 ],
 "metadata": {
  "kernelspec": {
   "display_name": "Python 3",
   "language": "python",
   "name": "python3"
  },
  "language_info": {
   "codemirror_mode": {
    "name": "ipython",
    "version": 3
   },
   "file_extension": ".py",
   "mimetype": "text/x-python",
   "name": "python",
   "nbconvert_exporter": "python",
   "pygments_lexer": "ipython3",
   "version": "3.11.3"
  },
  "orig_nbformat": 4
 },
 "nbformat": 4,
 "nbformat_minor": 2
}
