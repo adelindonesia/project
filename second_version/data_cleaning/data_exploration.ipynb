{
 "cells": [
  {
   "attachments": {},
   "cell_type": "markdown",
   "metadata": {},
   "source": [
    "# DATA EXPLORATION"
   ]
  },
  {
   "cell_type": "code",
   "execution_count": 1,
   "metadata": {},
   "outputs": [],
   "source": [
    "import pandas as pd"
   ]
  },
  {
   "cell_type": "code",
   "execution_count": 2,
   "metadata": {},
   "outputs": [],
   "source": [
    "%run data_cleaning.ipynb"
   ]
  },
  {
   "cell_type": "code",
   "execution_count": 3,
   "metadata": {},
   "outputs": [],
   "source": [
    "nyc = df1\n",
    "sao = df2"
   ]
  },
  {
   "attachments": {},
   "cell_type": "markdown",
   "metadata": {},
   "source": [
    "## Combined dataset"
   ]
  },
  {
   "cell_type": "code",
   "execution_count": 4,
   "metadata": {},
   "outputs": [
    {
     "data": {
      "text/html": [
       "<div>\n",
       "<style scoped>\n",
       "    .dataframe tbody tr th:only-of-type {\n",
       "        vertical-align: middle;\n",
       "    }\n",
       "\n",
       "    .dataframe tbody tr th {\n",
       "        vertical-align: top;\n",
       "    }\n",
       "\n",
       "    .dataframe thead th {\n",
       "        text-align: right;\n",
       "    }\n",
       "</style>\n",
       "<table border=\"1\" class=\"dataframe\">\n",
       "  <thead>\n",
       "    <tr style=\"text-align: right;\">\n",
       "      <th></th>\n",
       "      <th>out_airline_company</th>\n",
       "      <th>in_airline_company</th>\n",
       "      <th>dep_city</th>\n",
       "      <th>arr_city</th>\n",
       "      <th>out_dep_date</th>\n",
       "      <th>out_dep_time</th>\n",
       "      <th>out_duration</th>\n",
       "      <th>out_stop_num</th>\n",
       "      <th>out_arr_date</th>\n",
       "      <th>out_arr_time</th>\n",
       "      <th>in_dep_date</th>\n",
       "      <th>in_dep_time</th>\n",
       "      <th>in_duration</th>\n",
       "      <th>in_stop_num</th>\n",
       "      <th>in_arr_date</th>\n",
       "      <th>in_arr_time</th>\n",
       "      <th>hour_scrap</th>\n",
       "      <th>day_scrap</th>\n",
       "      <th>ticket_price</th>\n",
       "    </tr>\n",
       "  </thead>\n",
       "  <tbody>\n",
       "    <tr>\n",
       "      <th>0</th>\n",
       "      <td>Lufthansa</td>\n",
       "      <td>Lufthansa</td>\n",
       "      <td>BRU</td>\n",
       "      <td>JFK</td>\n",
       "      <td>2023-08-01</td>\n",
       "      <td>09:35</td>\n",
       "      <td>0 days 11:25:00</td>\n",
       "      <td>1</td>\n",
       "      <td>2023-08-01</td>\n",
       "      <td>15:00</td>\n",
       "      <td>2023-08-15</td>\n",
       "      <td>15:55</td>\n",
       "      <td>0 days 09:40:00</td>\n",
       "      <td>1</td>\n",
       "      <td>2023-08-16</td>\n",
       "      <td>07:35</td>\n",
       "      <td>16</td>\n",
       "      <td>20</td>\n",
       "      <td>1176.01</td>\n",
       "    </tr>\n",
       "    <tr>\n",
       "      <th>1</th>\n",
       "      <td>Lufthansa</td>\n",
       "      <td>Lufthansa</td>\n",
       "      <td>BRU</td>\n",
       "      <td>JFK</td>\n",
       "      <td>2023-08-01</td>\n",
       "      <td>13:15</td>\n",
       "      <td>0 days 12:50:00</td>\n",
       "      <td>1</td>\n",
       "      <td>2023-08-01</td>\n",
       "      <td>20:05</td>\n",
       "      <td>2023-08-15</td>\n",
       "      <td>17:30</td>\n",
       "      <td>0 days 16:20:00</td>\n",
       "      <td>1</td>\n",
       "      <td>2023-08-16</td>\n",
       "      <td>15:50</td>\n",
       "      <td>16</td>\n",
       "      <td>20</td>\n",
       "      <td>923.39</td>\n",
       "    </tr>\n",
       "    <tr>\n",
       "      <th>2</th>\n",
       "      <td>Lufthansa</td>\n",
       "      <td>Lufthansa</td>\n",
       "      <td>BRU</td>\n",
       "      <td>JFK</td>\n",
       "      <td>2023-08-01</td>\n",
       "      <td>08:50</td>\n",
       "      <td>0 days 12:10:00</td>\n",
       "      <td>1</td>\n",
       "      <td>2023-08-01</td>\n",
       "      <td>15:00</td>\n",
       "      <td>2023-08-15</td>\n",
       "      <td>15:55</td>\n",
       "      <td>0 days 09:40:00</td>\n",
       "      <td>1</td>\n",
       "      <td>2023-08-16</td>\n",
       "      <td>07:35</td>\n",
       "      <td>16</td>\n",
       "      <td>20</td>\n",
       "      <td>1176.01</td>\n",
       "    </tr>\n",
       "    <tr>\n",
       "      <th>3</th>\n",
       "      <td>Lufthansa</td>\n",
       "      <td>Lufthansa</td>\n",
       "      <td>BRU</td>\n",
       "      <td>JFK</td>\n",
       "      <td>2023-08-01</td>\n",
       "      <td>09:35</td>\n",
       "      <td>0 days 11:25:00</td>\n",
       "      <td>1</td>\n",
       "      <td>2023-08-01</td>\n",
       "      <td>15:00</td>\n",
       "      <td>2023-08-15</td>\n",
       "      <td>15:55</td>\n",
       "      <td>0 days 10:40:00</td>\n",
       "      <td>1</td>\n",
       "      <td>2023-08-16</td>\n",
       "      <td>08:35</td>\n",
       "      <td>16</td>\n",
       "      <td>20</td>\n",
       "      <td>1176.01</td>\n",
       "    </tr>\n",
       "    <tr>\n",
       "      <th>4</th>\n",
       "      <td>Lufthansa</td>\n",
       "      <td>Lufthansa</td>\n",
       "      <td>BRU</td>\n",
       "      <td>JFK</td>\n",
       "      <td>2023-08-01</td>\n",
       "      <td>09:35</td>\n",
       "      <td>0 days 11:25:00</td>\n",
       "      <td>1</td>\n",
       "      <td>2023-08-01</td>\n",
       "      <td>15:00</td>\n",
       "      <td>2023-08-15</td>\n",
       "      <td>17:30</td>\n",
       "      <td>0 days 10:50:00</td>\n",
       "      <td>1</td>\n",
       "      <td>2023-08-16</td>\n",
       "      <td>10:20</td>\n",
       "      <td>16</td>\n",
       "      <td>20</td>\n",
       "      <td>1176.01</td>\n",
       "    </tr>\n",
       "    <tr>\n",
       "      <th>...</th>\n",
       "      <td>...</td>\n",
       "      <td>...</td>\n",
       "      <td>...</td>\n",
       "      <td>...</td>\n",
       "      <td>...</td>\n",
       "      <td>...</td>\n",
       "      <td>...</td>\n",
       "      <td>...</td>\n",
       "      <td>...</td>\n",
       "      <td>...</td>\n",
       "      <td>...</td>\n",
       "      <td>...</td>\n",
       "      <td>...</td>\n",
       "      <td>...</td>\n",
       "      <td>...</td>\n",
       "      <td>...</td>\n",
       "      <td>...</td>\n",
       "      <td>...</td>\n",
       "      <td>...</td>\n",
       "    </tr>\n",
       "    <tr>\n",
       "      <th>11614</th>\n",
       "      <td>Swiss</td>\n",
       "      <td>Swiss</td>\n",
       "      <td>BRU</td>\n",
       "      <td>GRU</td>\n",
       "      <td>2023-08-01</td>\n",
       "      <td>15:00</td>\n",
       "      <td>0 days 19:25:00</td>\n",
       "      <td>2</td>\n",
       "      <td>2023-08-02</td>\n",
       "      <td>05:25</td>\n",
       "      <td>2023-08-15</td>\n",
       "      <td>18:45</td>\n",
       "      <td>1 days 08:35:00</td>\n",
       "      <td>2</td>\n",
       "      <td>2023-08-17</td>\n",
       "      <td>08:20</td>\n",
       "      <td>12</td>\n",
       "      <td>31</td>\n",
       "      <td>2126.92</td>\n",
       "    </tr>\n",
       "    <tr>\n",
       "      <th>11615</th>\n",
       "      <td>Swiss</td>\n",
       "      <td>Swiss</td>\n",
       "      <td>BRU</td>\n",
       "      <td>GRU</td>\n",
       "      <td>2023-08-01</td>\n",
       "      <td>09:15</td>\n",
       "      <td>1 days 01:10:00</td>\n",
       "      <td>2</td>\n",
       "      <td>2023-08-02</td>\n",
       "      <td>05:25</td>\n",
       "      <td>2023-08-15</td>\n",
       "      <td>18:45</td>\n",
       "      <td>1 days 08:35:00</td>\n",
       "      <td>2</td>\n",
       "      <td>2023-08-17</td>\n",
       "      <td>08:20</td>\n",
       "      <td>12</td>\n",
       "      <td>31</td>\n",
       "      <td>1976.92</td>\n",
       "    </tr>\n",
       "    <tr>\n",
       "      <th>11616</th>\n",
       "      <td>Swiss</td>\n",
       "      <td>Swiss</td>\n",
       "      <td>BRU</td>\n",
       "      <td>GRU</td>\n",
       "      <td>2023-08-01</td>\n",
       "      <td>09:15</td>\n",
       "      <td>1 days 01:10:00</td>\n",
       "      <td>2</td>\n",
       "      <td>2023-08-02</td>\n",
       "      <td>05:25</td>\n",
       "      <td>2023-08-15</td>\n",
       "      <td>18:45</td>\n",
       "      <td>1 days 08:35:00</td>\n",
       "      <td>2</td>\n",
       "      <td>2023-08-17</td>\n",
       "      <td>08:20</td>\n",
       "      <td>12</td>\n",
       "      <td>31</td>\n",
       "      <td>1976.92</td>\n",
       "    </tr>\n",
       "    <tr>\n",
       "      <th>11617</th>\n",
       "      <td>Swiss</td>\n",
       "      <td>Swiss</td>\n",
       "      <td>BRU</td>\n",
       "      <td>GRU</td>\n",
       "      <td>2023-08-01</td>\n",
       "      <td>09:45</td>\n",
       "      <td>1 days 00:40:00</td>\n",
       "      <td>1</td>\n",
       "      <td>2023-08-02</td>\n",
       "      <td>05:25</td>\n",
       "      <td>2023-08-15</td>\n",
       "      <td>18:45</td>\n",
       "      <td>1 days 08:35:00</td>\n",
       "      <td>2</td>\n",
       "      <td>2023-08-17</td>\n",
       "      <td>08:20</td>\n",
       "      <td>12</td>\n",
       "      <td>31</td>\n",
       "      <td>2100.92</td>\n",
       "    </tr>\n",
       "    <tr>\n",
       "      <th>11618</th>\n",
       "      <td>Swiss</td>\n",
       "      <td>Swiss</td>\n",
       "      <td>BRU</td>\n",
       "      <td>GRU</td>\n",
       "      <td>2023-08-01</td>\n",
       "      <td>09:15</td>\n",
       "      <td>1 days 01:10:00</td>\n",
       "      <td>2</td>\n",
       "      <td>2023-08-02</td>\n",
       "      <td>05:25</td>\n",
       "      <td>2023-08-15</td>\n",
       "      <td>18:45</td>\n",
       "      <td>1 days 08:35:00</td>\n",
       "      <td>2</td>\n",
       "      <td>2023-08-17</td>\n",
       "      <td>08:20</td>\n",
       "      <td>12</td>\n",
       "      <td>31</td>\n",
       "      <td>2126.92</td>\n",
       "    </tr>\n",
       "  </tbody>\n",
       "</table>\n",
       "<p>11619 rows × 19 columns</p>\n",
       "</div>"
      ],
      "text/plain": [
       "      out_airline_company in_airline_company dep_city arr_city out_dep_date   \n",
       "0               Lufthansa          Lufthansa      BRU      JFK   2023-08-01  \\\n",
       "1               Lufthansa          Lufthansa      BRU      JFK   2023-08-01   \n",
       "2               Lufthansa          Lufthansa      BRU      JFK   2023-08-01   \n",
       "3               Lufthansa          Lufthansa      BRU      JFK   2023-08-01   \n",
       "4               Lufthansa          Lufthansa      BRU      JFK   2023-08-01   \n",
       "...                   ...                ...      ...      ...          ...   \n",
       "11614               Swiss              Swiss      BRU      GRU   2023-08-01   \n",
       "11615               Swiss              Swiss      BRU      GRU   2023-08-01   \n",
       "11616               Swiss              Swiss      BRU      GRU   2023-08-01   \n",
       "11617               Swiss              Swiss      BRU      GRU   2023-08-01   \n",
       "11618               Swiss              Swiss      BRU      GRU   2023-08-01   \n",
       "\n",
       "      out_dep_time    out_duration  out_stop_num out_arr_date out_arr_time   \n",
       "0            09:35 0 days 11:25:00             1   2023-08-01        15:00  \\\n",
       "1            13:15 0 days 12:50:00             1   2023-08-01        20:05   \n",
       "2            08:50 0 days 12:10:00             1   2023-08-01        15:00   \n",
       "3            09:35 0 days 11:25:00             1   2023-08-01        15:00   \n",
       "4            09:35 0 days 11:25:00             1   2023-08-01        15:00   \n",
       "...            ...             ...           ...          ...          ...   \n",
       "11614        15:00 0 days 19:25:00             2   2023-08-02        05:25   \n",
       "11615        09:15 1 days 01:10:00             2   2023-08-02        05:25   \n",
       "11616        09:15 1 days 01:10:00             2   2023-08-02        05:25   \n",
       "11617        09:45 1 days 00:40:00             1   2023-08-02        05:25   \n",
       "11618        09:15 1 days 01:10:00             2   2023-08-02        05:25   \n",
       "\n",
       "      in_dep_date in_dep_time     in_duration  in_stop_num in_arr_date   \n",
       "0      2023-08-15       15:55 0 days 09:40:00            1  2023-08-16  \\\n",
       "1      2023-08-15       17:30 0 days 16:20:00            1  2023-08-16   \n",
       "2      2023-08-15       15:55 0 days 09:40:00            1  2023-08-16   \n",
       "3      2023-08-15       15:55 0 days 10:40:00            1  2023-08-16   \n",
       "4      2023-08-15       17:30 0 days 10:50:00            1  2023-08-16   \n",
       "...           ...         ...             ...          ...         ...   \n",
       "11614  2023-08-15       18:45 1 days 08:35:00            2  2023-08-17   \n",
       "11615  2023-08-15       18:45 1 days 08:35:00            2  2023-08-17   \n",
       "11616  2023-08-15       18:45 1 days 08:35:00            2  2023-08-17   \n",
       "11617  2023-08-15       18:45 1 days 08:35:00            2  2023-08-17   \n",
       "11618  2023-08-15       18:45 1 days 08:35:00            2  2023-08-17   \n",
       "\n",
       "      in_arr_time  hour_scrap  day_scrap  ticket_price  \n",
       "0           07:35          16         20       1176.01  \n",
       "1           15:50          16         20        923.39  \n",
       "2           07:35          16         20       1176.01  \n",
       "3           08:35          16         20       1176.01  \n",
       "4           10:20          16         20       1176.01  \n",
       "...           ...         ...        ...           ...  \n",
       "11614       08:20          12         31       2126.92  \n",
       "11615       08:20          12         31       1976.92  \n",
       "11616       08:20          12         31       1976.92  \n",
       "11617       08:20          12         31       2100.92  \n",
       "11618       08:20          12         31       2126.92  \n",
       "\n",
       "[11619 rows x 19 columns]"
      ]
     },
     "execution_count": 4,
     "metadata": {},
     "output_type": "execute_result"
    }
   ],
   "source": [
    "dataset = pd.concat([nyc, sao]).reset_index(drop=True)\n",
    "dataset"
   ]
  },
  {
   "cell_type": "code",
   "execution_count": 5,
   "metadata": {},
   "outputs": [
    {
     "data": {
      "text/plain": [
       "Index(['out_airline_company', 'in_airline_company', 'dep_city', 'arr_city',\n",
       "       'out_dep_date', 'out_dep_time', 'out_duration', 'out_stop_num',\n",
       "       'out_arr_date', 'out_arr_time', 'in_dep_date', 'in_dep_time',\n",
       "       'in_duration', 'in_stop_num', 'in_arr_date', 'in_arr_time',\n",
       "       'hour_scrap', 'day_scrap', 'ticket_price'],\n",
       "      dtype='object')"
      ]
     },
     "execution_count": 5,
     "metadata": {},
     "output_type": "execute_result"
    }
   ],
   "source": [
    "dataset.columns"
   ]
  },
  {
   "cell_type": "code",
   "execution_count": 6,
   "metadata": {},
   "outputs": [
    {
     "data": {
      "text/plain": [
       "out_airline_company             object\n",
       "in_airline_company              object\n",
       "dep_city                        object\n",
       "arr_city                        object\n",
       "out_dep_date            datetime64[ns]\n",
       "out_dep_time                    object\n",
       "out_duration           timedelta64[ns]\n",
       "out_stop_num                     int32\n",
       "out_arr_date            datetime64[ns]\n",
       "out_arr_time                    object\n",
       "in_dep_date             datetime64[ns]\n",
       "in_dep_time                     object\n",
       "in_duration            timedelta64[ns]\n",
       "in_stop_num                      int32\n",
       "in_arr_date             datetime64[ns]\n",
       "in_arr_time                     object\n",
       "hour_scrap                       int64\n",
       "day_scrap                        int64\n",
       "ticket_price                   float64\n",
       "dtype: object"
      ]
     },
     "execution_count": 6,
     "metadata": {},
     "output_type": "execute_result"
    }
   ],
   "source": [
    "dataset.dtypes"
   ]
  },
  {
   "cell_type": "code",
   "execution_count": 7,
   "metadata": {},
   "outputs": [
    {
     "data": {
      "text/plain": [
       "array(['Lufthansa', 'Swiss'], dtype=object)"
      ]
     },
     "execution_count": 7,
     "metadata": {},
     "output_type": "execute_result"
    }
   ],
   "source": [
    "dataset.out_airline_company.unique()"
   ]
  },
  {
   "cell_type": "code",
   "execution_count": 8,
   "metadata": {},
   "outputs": [
    {
     "name": "stdout",
     "output_type": "stream",
     "text": [
      "Total number of rows:  11619\n",
      "Total number of columns:  19\n"
     ]
    }
   ],
   "source": [
    "print('Total number of rows: ', dataset.shape[0])\n",
    "print('Total number of columns: ', dataset.shape[1])"
   ]
  },
  {
   "cell_type": "code",
   "execution_count": 9,
   "metadata": {},
   "outputs": [
    {
     "data": {
      "text/plain": [
       "(11619, 19)"
      ]
     },
     "execution_count": 9,
     "metadata": {},
     "output_type": "execute_result"
    }
   ],
   "source": [
    "dataset.loc[(dataset.out_airline_company=='Lufthansa') & (dataset.in_airline_company=='Lufthansa') | (dataset.out_airline_company=='Swiss') & (dataset.in_airline_company=='Swiss')].shape\n"
   ]
  },
  {
   "attachments": {},
   "cell_type": "markdown",
   "metadata": {},
   "source": [
    "## Destinations"
   ]
  },
  {
   "attachments": {},
   "cell_type": "markdown",
   "metadata": {},
   "source": [
    "in_airline_company and out_airline_company have the same values for a given row.\n",
    "To describe either in_airline_company or out_air_line company is the same. This gave us:\n",
    "* the count (the length of the dataframe rows),\n",
    "* number of unique values (2: Swiss or Lufthansa), \n",
    "* the top (the unique value which is the most frequent in the dataframe) and \n",
    "* the frequency (which is the number of frequecy of the top)."
   ]
  },
  {
   "attachments": {},
   "cell_type": "markdown",
   "metadata": {},
   "source": [
    "##### From Brussels to New York City"
   ]
  },
  {
   "cell_type": "code",
   "execution_count": 10,
   "metadata": {},
   "outputs": [
    {
     "data": {
      "text/plain": [
       "count      5835\n",
       "unique        2\n",
       "top       Swiss\n",
       "freq       3003\n",
       "Name: out_airline_company, dtype: object"
      ]
     },
     "execution_count": 10,
     "metadata": {},
     "output_type": "execute_result"
    }
   ],
   "source": [
    "nyc[\"out_airline_company\"].describe()"
   ]
  },
  {
   "cell_type": "code",
   "execution_count": 11,
   "metadata": {},
   "outputs": [
    {
     "data": {
      "text/html": [
       "<div>\n",
       "<style scoped>\n",
       "    .dataframe tbody tr th:only-of-type {\n",
       "        vertical-align: middle;\n",
       "    }\n",
       "\n",
       "    .dataframe tbody tr th {\n",
       "        vertical-align: top;\n",
       "    }\n",
       "\n",
       "    .dataframe thead th {\n",
       "        text-align: right;\n",
       "    }\n",
       "</style>\n",
       "<table border=\"1\" class=\"dataframe\">\n",
       "  <thead>\n",
       "    <tr style=\"text-align: right;\">\n",
       "      <th></th>\n",
       "      <th>count</th>\n",
       "      <th>mean</th>\n",
       "      <th>std</th>\n",
       "      <th>min</th>\n",
       "      <th>25%</th>\n",
       "      <th>50%</th>\n",
       "      <th>75%</th>\n",
       "      <th>max</th>\n",
       "    </tr>\n",
       "    <tr>\n",
       "      <th>out_airline_company</th>\n",
       "      <th></th>\n",
       "      <th></th>\n",
       "      <th></th>\n",
       "      <th></th>\n",
       "      <th></th>\n",
       "      <th></th>\n",
       "      <th></th>\n",
       "      <th></th>\n",
       "    </tr>\n",
       "  </thead>\n",
       "  <tbody>\n",
       "    <tr>\n",
       "      <th>Lufthansa</th>\n",
       "      <td>2832.0</td>\n",
       "      <td>1146.161497</td>\n",
       "      <td>491.568339</td>\n",
       "      <td>923.37</td>\n",
       "      <td>1051.95</td>\n",
       "      <td>1076.70</td>\n",
       "      <td>1149.75</td>\n",
       "      <td>7499.98</td>\n",
       "    </tr>\n",
       "    <tr>\n",
       "      <th>Swiss</th>\n",
       "      <td>3003.0</td>\n",
       "      <td>951.797872</td>\n",
       "      <td>117.865578</td>\n",
       "      <td>678.72</td>\n",
       "      <td>890.28</td>\n",
       "      <td>936.26</td>\n",
       "      <td>1074.28</td>\n",
       "      <td>1099.94</td>\n",
       "    </tr>\n",
       "  </tbody>\n",
       "</table>\n",
       "</div>"
      ],
      "text/plain": [
       "                      count         mean         std     min      25%   \n",
       "out_airline_company                                                     \n",
       "Lufthansa            2832.0  1146.161497  491.568339  923.37  1051.95  \\\n",
       "Swiss                3003.0   951.797872  117.865578  678.72   890.28   \n",
       "\n",
       "                         50%      75%      max  \n",
       "out_airline_company                             \n",
       "Lufthansa            1076.70  1149.75  7499.98  \n",
       "Swiss                 936.26  1074.28  1099.94  "
      ]
     },
     "execution_count": 11,
     "metadata": {},
     "output_type": "execute_result"
    }
   ],
   "source": [
    "nyc.groupby('out_airline_company')['ticket_price'].describe()"
   ]
  },
  {
   "attachments": {},
   "cell_type": "markdown",
   "metadata": {},
   "source": [
    "##### From Brussels to São Paulo"
   ]
  },
  {
   "cell_type": "code",
   "execution_count": 12,
   "metadata": {},
   "outputs": [
    {
     "data": {
      "text/plain": [
       "count          5784\n",
       "unique            2\n",
       "top       Lufthansa\n",
       "freq           3110\n",
       "Name: out_airline_company, dtype: object"
      ]
     },
     "execution_count": 12,
     "metadata": {},
     "output_type": "execute_result"
    }
   ],
   "source": [
    "sao[\"out_airline_company\"].describe()"
   ]
  },
  {
   "cell_type": "code",
   "execution_count": 13,
   "metadata": {},
   "outputs": [
    {
     "data": {
      "text/html": [
       "<div>\n",
       "<style scoped>\n",
       "    .dataframe tbody tr th:only-of-type {\n",
       "        vertical-align: middle;\n",
       "    }\n",
       "\n",
       "    .dataframe tbody tr th {\n",
       "        vertical-align: top;\n",
       "    }\n",
       "\n",
       "    .dataframe thead th {\n",
       "        text-align: right;\n",
       "    }\n",
       "</style>\n",
       "<table border=\"1\" class=\"dataframe\">\n",
       "  <thead>\n",
       "    <tr style=\"text-align: right;\">\n",
       "      <th></th>\n",
       "      <th>count</th>\n",
       "      <th>mean</th>\n",
       "      <th>std</th>\n",
       "      <th>min</th>\n",
       "      <th>25%</th>\n",
       "      <th>50%</th>\n",
       "      <th>75%</th>\n",
       "      <th>max</th>\n",
       "    </tr>\n",
       "    <tr>\n",
       "      <th>out_airline_company</th>\n",
       "      <th></th>\n",
       "      <th></th>\n",
       "      <th></th>\n",
       "      <th></th>\n",
       "      <th></th>\n",
       "      <th></th>\n",
       "      <th></th>\n",
       "      <th></th>\n",
       "    </tr>\n",
       "  </thead>\n",
       "  <tbody>\n",
       "    <tr>\n",
       "      <th>Lufthansa</th>\n",
       "      <td>3110.0</td>\n",
       "      <td>2284.187518</td>\n",
       "      <td>917.530868</td>\n",
       "      <td>1049.72</td>\n",
       "      <td>1967.59</td>\n",
       "      <td>2215.75</td>\n",
       "      <td>2334.19</td>\n",
       "      <td>8245.77</td>\n",
       "    </tr>\n",
       "    <tr>\n",
       "      <th>Swiss</th>\n",
       "      <td>2674.0</td>\n",
       "      <td>1913.817640</td>\n",
       "      <td>184.426702</td>\n",
       "      <td>779.35</td>\n",
       "      <td>1799.71</td>\n",
       "      <td>1944.42</td>\n",
       "      <td>2094.42</td>\n",
       "      <td>2126.92</td>\n",
       "    </tr>\n",
       "  </tbody>\n",
       "</table>\n",
       "</div>"
      ],
      "text/plain": [
       "                      count         mean         std      min      25%   \n",
       "out_airline_company                                                      \n",
       "Lufthansa            3110.0  2284.187518  917.530868  1049.72  1967.59  \\\n",
       "Swiss                2674.0  1913.817640  184.426702   779.35  1799.71   \n",
       "\n",
       "                         50%      75%      max  \n",
       "out_airline_company                             \n",
       "Lufthansa            2215.75  2334.19  8245.77  \n",
       "Swiss                1944.42  2094.42  2126.92  "
      ]
     },
     "execution_count": 13,
     "metadata": {},
     "output_type": "execute_result"
    }
   ],
   "source": [
    "sao.groupby('out_airline_company')['ticket_price'].describe()"
   ]
  }
 ],
 "metadata": {
  "kernelspec": {
   "display_name": "Python 3",
   "language": "python",
   "name": "python3"
  },
  "language_info": {
   "codemirror_mode": {
    "name": "ipython",
    "version": 3
   },
   "file_extension": ".py",
   "mimetype": "text/x-python",
   "name": "python",
   "nbconvert_exporter": "python",
   "pygments_lexer": "ipython3",
   "version": "3.11.3"
  },
  "orig_nbformat": 4
 },
 "nbformat": 4,
 "nbformat_minor": 2
}
