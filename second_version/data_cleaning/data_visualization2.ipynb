{
 "cells": [
  {
   "cell_type": "code",
   "execution_count": null,
   "metadata": {},
   "outputs": [],
   "source": [
    "import pandas as pd\n",
    "import numpy as np"
   ]
  },
  {
   "cell_type": "code",
   "execution_count": null,
   "metadata": {},
   "outputs": [],
   "source": [
    "%run data_cleaning.ipynb\n",
    "%run data_exploration.ipynb"
   ]
  },
  {
   "attachments": {},
   "cell_type": "markdown",
   "metadata": {},
   "source": [
    "# (Data cleaning)"
   ]
  },
  {
   "attachments": {},
   "cell_type": "markdown",
   "metadata": {},
   "source": [
    "- Create a column for the booking date and convert to datetime (day_scrap, hour_scrap)"
   ]
  },
  {
   "cell_type": "code",
   "execution_count": null,
   "metadata": {},
   "outputs": [],
   "source": [
    "cur_time = datetime.datetime.now()\n",
    "month = cur_time.strftime('%b')\n",
    "year = cur_time.strftime('%Y')"
   ]
  },
  {
   "cell_type": "code",
   "execution_count": null,
   "metadata": {},
   "outputs": [],
   "source": [
    "dataset['date']=pd.to_datetime(dataset['day_scrap'].astype(str) + ' ' + month + ' ' + year + ' '+ dataset['hour_scrap'].astype(str), format='%d %b %Y %H')"
   ]
  },
  {
   "attachments": {},
   "cell_type": "markdown",
   "metadata": {},
   "source": [
    "- Bar chart\n",
    "- Box plot\n",
    "- Lineplot\n",
    "- Heatmap"
   ]
  },
  {
   "attachments": {},
   "cell_type": "markdown",
   "metadata": {},
   "source": [
    "# Data visualization"
   ]
  },
  {
   "attachments": {},
   "cell_type": "markdown",
   "metadata": {},
   "source": [
    "## Setting-up"
   ]
  },
  {
   "cell_type": "code",
   "execution_count": null,
   "metadata": {},
   "outputs": [],
   "source": [
    "from plotnine import *\n",
    "import matplotlib.pyplot as plt \n",
    "# import matplotlib.dates as mdates\n",
    "# from mizani.formatters import percent_format\n",
    "import seaborn as sns \n",
    "import datetime\n",
    "import warnings\n",
    "\n",
    "%matplotlib inline\n",
    "warnings.filterwarnings(\"ignore\")"
   ]
  },
  {
   "attachments": {},
   "cell_type": "markdown",
   "metadata": {},
   "source": [
    "- Outliers for ticket_price are removed from the dataset for data visualization, as it may significantly influence statistics."
   ]
  },
  {
   "cell_type": "code",
   "execution_count": null,
   "metadata": {},
   "outputs": [],
   "source": [
    "dataset=dataset.loc[(dataset.ticket_price<6000)].reset_index(drop=True)"
   ]
  },
  {
   "attachments": {},
   "cell_type": "markdown",
   "metadata": {},
   "source": [
    "- Calculate total duration of round trip"
   ]
  },
  {
   "cell_type": "code",
   "execution_count": null,
   "metadata": {},
   "outputs": [],
   "source": [
    "dataset['tot_duration'] = (dataset[\"out_duration\"] + dataset[\"in_duration\"]).reset_index(drop=True)"
   ]
  },
  {
   "attachments": {},
   "cell_type": "markdown",
   "metadata": {},
   "source": [
    "## a. Bar chart"
   ]
  },
  {
   "attachments": {},
   "cell_type": "markdown",
   "metadata": {},
   "source": [
    "#### a1. Number of flights by destination and airline company"
   ]
  },
  {
   "cell_type": "code",
   "execution_count": null,
   "metadata": {},
   "outputs": [],
   "source": [
    "barplot1 = dataset.groupby([\"arr_city\", \"out_airline_company\"]).size().reset_index(name=\"N\")\n",
    "barplot1[\"group_count\"] = barplot1.groupby(\"arr_city\")[\"N\"].transform(\"sum\")\n",
    "barplot1['percent']=barplot1['N']/barplot1[\"group_count\"]\n",
    "barplot1"
   ]
  },
  {
   "cell_type": "code",
   "execution_count": null,
   "metadata": {},
   "outputs": [],
   "source": [
    "f1= (ggplot(barplot1, aes(x=\"arr_city\", y=\"N\", fill=\"out_airline_company\"))\n",
    "+ geom_bar(stat=\"identity\", position=\"dodge\", width=0.6, size=0.5)\n",
    "+ labs(x=\"Destination\", y=\"Number of flights\", fill=\"Airline company\")\n",
    "+ scale_x_discrete(labels=[\"São Paulo\", \"New York City\"])\n",
    "+ theme_bw()\n",
    ")\n",
    "f1"
   ]
  },
  {
   "attachments": {},
   "cell_type": "markdown",
   "metadata": {},
   "source": [
    "#### a2. Minimum ticket prices based on the day of the week (NYC)"
   ]
  },
  {
   "cell_type": "code",
   "execution_count": null,
   "metadata": {},
   "outputs": [],
   "source": [
    "barplot2=dataset.loc[dataset.arr_city=='JFK'].filter(['date','ticket_price','out_airline_company'])"
   ]
  },
  {
   "cell_type": "code",
   "execution_count": null,
   "metadata": {},
   "outputs": [],
   "source": [
    "barplot2['day_of_week'] = dataset['date'].dt.strftime('%A')"
   ]
  },
  {
   "cell_type": "code",
   "execution_count": null,
   "metadata": {},
   "outputs": [],
   "source": [
    "weekday_order = ['Monday', 'Tuesday', 'Wednesday', 'Thursday', 'Friday', 'Saturday', 'Sunday']\n",
    "barplot2['day_of_week'] = pd.Categorical(barplot2['day_of_week'], categories=weekday_order, ordered=True)"
   ]
  },
  {
   "cell_type": "code",
   "execution_count": null,
   "metadata": {},
   "outputs": [],
   "source": [
    "barplot2"
   ]
  },
  {
   "cell_type": "code",
   "execution_count": null,
   "metadata": {},
   "outputs": [],
   "source": [
    "min_prices = barplot2.groupby(['day_of_week','out_airline_company'])['ticket_price'].min().reset_index()"
   ]
  },
  {
   "cell_type": "code",
   "execution_count": null,
   "metadata": {},
   "outputs": [],
   "source": [
    "f1= (ggplot(min_prices, aes(x='day_of_week', y=\"ticket_price\", fill='out_airline_company'))\n",
    "+ geom_bar(stat=\"identity\", position=\"stack\", width=0.8, size=0.9)\n",
    "+ labs(x=\"Day of the week\", y=\"Ticket price\", fill=\"Airline\")\n",
    "+ scale_fill_discrete(labels=[\"Lufthansa\", \"Swiss\"])\n",
    "+ theme_bw()\n",
    ")\n",
    "f1"
   ]
  },
  {
   "attachments": {},
   "cell_type": "markdown",
   "metadata": {},
   "source": [
    "#### a3. Minimum ticket prices based on the day of the week (Sao paulo)"
   ]
  },
  {
   "cell_type": "code",
   "execution_count": null,
   "metadata": {},
   "outputs": [],
   "source": [
    "barplot3=dataset.loc[dataset.arr_city=='GRU'].filter(['date','ticket_price','out_airline_company'])"
   ]
  },
  {
   "cell_type": "code",
   "execution_count": null,
   "metadata": {},
   "outputs": [],
   "source": [
    "barplot3['day_of_week'] = dataset['date'].dt.strftime('%A')"
   ]
  },
  {
   "cell_type": "code",
   "execution_count": null,
   "metadata": {},
   "outputs": [],
   "source": [
    "weekday_order = ['Monday', 'Tuesday', 'Wednesday', 'Thursday', 'Friday', 'Saturday', 'Sunday']\n",
    "barplot3['day_of_week'] = pd.Categorical(barplot3['day_of_week'], categories=weekday_order, ordered=True)"
   ]
  },
  {
   "cell_type": "code",
   "execution_count": null,
   "metadata": {},
   "outputs": [],
   "source": [
    "barplot3"
   ]
  },
  {
   "cell_type": "code",
   "execution_count": null,
   "metadata": {},
   "outputs": [],
   "source": [
    "min_prices = barplot3.groupby(['day_of_week','out_airline_company'])['ticket_price'].min().reset_index()"
   ]
  },
  {
   "cell_type": "code",
   "execution_count": null,
   "metadata": {},
   "outputs": [],
   "source": [
    "f1= (ggplot(min_prices, aes(x='day_of_week', y=\"ticket_price\", fill='out_airline_company'))\n",
    "+ geom_bar(stat=\"identity\", position=\"stack\", width=0.8, size=0.9)\n",
    "+ labs(x=\"Day of the week\", y=\"Ticket price\", fill=\"Airline\")\n",
    "+ scale_fill_discrete(labels=[\"Lufthansa\", \"Swiss\"])\n",
    "+ theme_bw()\n",
    ")\n",
    "f1"
   ]
  },
  {
   "attachments": {},
   "cell_type": "markdown",
   "metadata": {},
   "source": [
    "## b. boxplot"
   ]
  },
  {
   "cell_type": "code",
   "execution_count": null,
   "metadata": {},
   "outputs": [],
   "source": [
    "lufthansa_nyc = nyc.loc[(nyc.out_airline_company == 'Lufthansa')]\n",
    "swiss_nyc = nyc.loc[(nyc.out_airline_company == 'Swiss')]\n",
    "lufthansa_sao = sao.loc[(sao.out_airline_company == 'Lufthansa')]\n",
    "swiss_sao = sao.loc[(sao.out_airline_company == 'Swiss')]"
   ]
  },
  {
   "attachments": {},
   "cell_type": "markdown",
   "metadata": {},
   "source": [
    "##### b1. boxplots for New York City"
   ]
  },
  {
   "cell_type": "code",
   "execution_count": null,
   "metadata": {},
   "outputs": [],
   "source": [
    "# Lufthasa\n",
    "f2 = (\n",
    "    ggplot(lufthansa_nyc, aes(y='ticket_price', x='arr_city'))\n",
    "    + geom_boxplot(color=\"blue\", size=0.5, width=0.1, alpha=0.5)\n",
    "    + labs(x=\"Cities\", y=\"Prices\")\n",
    "    + theme_bw()\n",
    ")\n",
    "f2\n",
    "\n",
    "f2 = f2 + stat_boxplot(geom = \"errorbar\", width = 0.05,  size = 0.5, color = 'blue')\n",
    "f2\n",
    "\n",
    "f2 + stat_summary(fun_data=\"mean_se\", geom=\"point\", size=4, color=\"red\", fill=\"red\")"
   ]
  },
  {
   "cell_type": "code",
   "execution_count": null,
   "metadata": {},
   "outputs": [],
   "source": [
    "# Swiss\n",
    "f3 = (\n",
    "    ggplot(swiss_nyc, aes(y='ticket_price', x='arr_city'))\n",
    "    + geom_boxplot(color=\"blue\", size=0.5, width=0.1, alpha=0.5)\n",
    "    + labs(x=\"Cities\", y=\"Prices\")\n",
    "    + theme_bw()\n",
    ")\n",
    "f3\n",
    "\n",
    "f3 = f3 + stat_boxplot(geom = \"errorbar\", width = 0.05,  size = 0.5, color = 'blue')\n",
    "f3\n",
    "\n",
    "f3 + stat_summary(fun_data=\"mean_se\", geom=\"point\", size=4, color=\"red\", fill=\"red\")"
   ]
  },
  {
   "attachments": {},
   "cell_type": "markdown",
   "metadata": {},
   "source": [
    "##### b2. boxplots for São Paulo destination"
   ]
  },
  {
   "cell_type": "code",
   "execution_count": null,
   "metadata": {},
   "outputs": [],
   "source": [
    "# Lufthasa\n",
    "f4 = (\n",
    "    ggplot(lufthansa_sao, aes(y='ticket_price', x='arr_city'))\n",
    "    + geom_boxplot(color=\"blue\", size=0.5, width=0.1, alpha=0.5)\n",
    "    + labs(x=\"Cities\", y=\"Prices\")\n",
    "    + theme_bw()\n",
    ")\n",
    "f4\n",
    "\n",
    "f4 = f4 + stat_boxplot(geom = \"errorbar\", width = 0.05,  size = 0.5, color = 'blue')\n",
    "f4\n",
    "\n",
    "f4 + stat_summary(fun_data=\"mean_se\", geom=\"point\", size=4, color=\"red\", fill=\"red\")"
   ]
  },
  {
   "cell_type": "code",
   "execution_count": null,
   "metadata": {},
   "outputs": [],
   "source": [
    "# Swiss\n",
    "f5 = (\n",
    "    ggplot(swiss_sao, aes(y='ticket_price', x='arr_city'))\n",
    "    + geom_boxplot(color=\"blue\", size=0.5, width=0.1, alpha=0.5)\n",
    "    + labs(x=\"Cities\", y=\"Prices\")\n",
    "    + theme_bw()\n",
    ")\n",
    "f5\n",
    "\n",
    "f5 = f5 + stat_boxplot(geom = \"errorbar\", width = 0.05,  size = 0.5, color = 'blue')\n",
    "f5\n",
    "\n",
    "f5 + stat_summary(fun_data=\"mean_se\", geom=\"point\", size=4, color=\"red\", fill=\"red\")"
   ]
  },
  {
   "attachments": {},
   "cell_type": "markdown",
   "metadata": {},
   "source": [
    "## c. Lineplot"
   ]
  },
  {
   "cell_type": "code",
   "execution_count": null,
   "metadata": {},
   "outputs": [],
   "source": [
    "lineplot=dataset.filter(['date', 'arr_city','out_airline_company','ticket_price'])\n",
    "lineplot['day_booking']=lineplot['date'].dt.strftime('%d %b')\n"
   ]
  },
  {
   "cell_type": "code",
   "execution_count": null,
   "metadata": {},
   "outputs": [],
   "source": [
    "lineplot"
   ]
  },
  {
   "attachments": {},
   "cell_type": "markdown",
   "metadata": {},
   "source": [
    "#### c1. Lineplot for New York City based on booking day"
   ]
  },
  {
   "cell_type": "code",
   "execution_count": null,
   "metadata": {},
   "outputs": [],
   "source": [
    "lineplot_nyc=lineplot.loc[(lineplot.arr_city=='JFK')].groupby(['day_booking','out_airline_company'])['ticket_price'].min()\n",
    "lineplot_nyc=lineplot_nyc.reset_index()"
   ]
  },
  {
   "cell_type": "code",
   "execution_count": null,
   "metadata": {},
   "outputs": [],
   "source": [
    "date_nyc = lineplot_nyc[lineplot_nyc.out_airline_company == 'Lufthansa']['day_booking'].tolist()\n",
    "price_lufthansa_nyc = lineplot_nyc[lineplot_nyc.out_airline_company == 'Lufthansa']['ticket_price'].tolist()\n",
    "price_swiss_nyc = lineplot_nyc[lineplot_nyc.out_airline_company == 'Swiss']['ticket_price'].tolist()"
   ]
  },
  {
   "cell_type": "code",
   "execution_count": null,
   "metadata": {},
   "outputs": [],
   "source": [
    "fig, ax1 = plt.subplots(figsize = (20,15))\n",
    "\n",
    "ax1.plot(date_nyc, price_lufthansa_nyc, \"-s\", color = 'k')\n",
    "plt.xticks(rotation=90)\n",
    "ax1.set_ylabel(\"Lufthansa price [€]\", color = 'k')\n",
    "# ax1.fill_between(lineplot_nyc['date'], lineplot_nyc['min'], lineplot_nyc['max'], alpha=0.1)\n",
    "ax2 = ax1.twinx()\n",
    "ax2.plot(date_nyc, price_swiss_nyc,\"-s\",color = \"royalblue\")\n",
    "ax2.set_ylabel(\"Swiss price [€]\", color = \"royalblue\")\n",
    "# ax2.fill_between(lineplot_nyc['date'], lineplot_nyc['min'], lineplot_nyc['max'], alpha=0.1)\n",
    "\n",
    "# plt.gca().xaxis.set_major_formatter(mdates.DateFormatter('%d %b %Y'))\n",
    "\n",
    "plt.xticks(rotation=90)\n",
    "plt.title('Flight (average) prices based on booking date');"
   ]
  },
  {
   "attachments": {},
   "cell_type": "markdown",
   "metadata": {},
   "source": [
    "#### (draft) Lineplot for New York City based on time and day of booking"
   ]
  },
  {
   "cell_type": "code",
   "execution_count": null,
   "metadata": {},
   "outputs": [],
   "source": [
    "lineplot_nyc = dataset.loc[(dataset.arr_city=='JFK')].groupby(['out_airline_company','date'])['ticket_price'].agg(['min','mean','max'])\n",
    "\n",
    "lineplot_nyc = lineplot_nyc.reset_index()\n",
    "\n",
    "lineplot_nyc['date'] = lineplot_nyc['date'].dt.strftime('%d %b %I %p')"
   ]
  },
  {
   "cell_type": "code",
   "execution_count": null,
   "metadata": {},
   "outputs": [],
   "source": [
    "lineplot_nyc.head()"
   ]
  },
  {
   "cell_type": "code",
   "execution_count": null,
   "metadata": {},
   "outputs": [],
   "source": [
    "lineplot_nyc.dtypes"
   ]
  },
  {
   "cell_type": "code",
   "execution_count": null,
   "metadata": {},
   "outputs": [],
   "source": [
    "# date_nyc = lineplot_nyc[lineplot_nyc.out_airline_company == 'Lufthansa']['date'].tolist()\n",
    "date_nyc = lineplot_nyc[lineplot_nyc.out_airline_company == 'Lufthansa']['date'].tolist()\n",
    "price_lufthansa_nyc = lineplot_nyc[lineplot_nyc.out_airline_company == 'Lufthansa']['mean'].tolist()\n",
    "price_swiss_nyc = lineplot_nyc[lineplot_nyc.out_airline_company == 'Swiss']['mean'].tolist()"
   ]
  },
  {
   "cell_type": "code",
   "execution_count": null,
   "metadata": {},
   "outputs": [],
   "source": [
    "fig, ax1 = plt.subplots(figsize = (20,15))\n",
    "\n",
    "ax1.plot(date_nyc, price_lufthansa_nyc, color = 'k')\n",
    "plt.xticks(rotation=90)\n",
    "ax1.set_ylabel(\"Lufthansa price [€]\", color = 'k')\n",
    "# ax1.fill_between(lineplot_nyc['date'], lineplot_nyc['min'], lineplot_nyc['max'], alpha=0.1)\n",
    "ax2 = ax1.twinx()\n",
    "ax2.plot(date_nyc, price_swiss_nyc, color = \"royalblue\")\n",
    "ax2.set_ylabel(\"Swiss price [€]\", color = \"royalblue\")\n",
    "# ax2.fill_between(lineplot_nyc['date'], lineplot_nyc['min'], lineplot_nyc['max'], alpha=0.1)\n",
    "\n",
    "# plt.gca().xaxis.set_major_formatter(mdates.DateFormatter('%d %b %Y'))\n",
    "\n",
    "plt.xticks(rotation=90)\n",
    "plt.title('Flight (average) prices based on booking date');"
   ]
  },
  {
   "attachments": {},
   "cell_type": "markdown",
   "metadata": {},
   "source": [
    "#### c2. Lineplot for São Paulo based on booking day"
   ]
  },
  {
   "cell_type": "code",
   "execution_count": null,
   "metadata": {},
   "outputs": [],
   "source": [
    "lineplot_sao=lineplot.loc[(lineplot.arr_city=='GRU')].groupby(['day_booking','out_airline_company'])['ticket_price'].min().reset_index()"
   ]
  },
  {
   "cell_type": "code",
   "execution_count": null,
   "metadata": {},
   "outputs": [],
   "source": [
    "date_sao = lineplot_sao[lineplot_sao.out_airline_company == 'Lufthansa']['day_booking'].tolist()\n",
    "price_lufthansa_sao = lineplot_sao[lineplot_sao.out_airline_company == 'Lufthansa']['ticket_price'].tolist()\n",
    "price_swiss_sao = lineplot_sao[lineplot_sao.out_airline_company == 'Swiss']['ticket_price'].tolist()"
   ]
  },
  {
   "cell_type": "code",
   "execution_count": null,
   "metadata": {},
   "outputs": [],
   "source": [
    "fig, ax1 = plt.subplots(figsize = (20,15))\n",
    "\n",
    "ax1.plot(date_sao, price_lufthansa_sao, \"-s\", color = 'k')\n",
    "plt.xticks(rotation=90)\n",
    "ax1.set_ylabel(\"Lufthansa price [€]\", color = 'k')\n",
    "# ax1.fill_between(lineplot_nyc['date'], lineplot_nyc['min'], lineplot_nyc['max'], alpha=0.1)\n",
    "ax2 = ax1.twinx()\n",
    "ax2.plot(date_sao, price_swiss_sao,\"-s\",color = \"royalblue\")\n",
    "ax2.set_ylabel(\"Swiss price [€]\", color = \"royalblue\")\n",
    "# ax2.fill_between(lineplot_nyc['date'], lineplot_nyc['min'], lineplot_nyc['max'], alpha=0.1)\n",
    "\n",
    "# plt.gca().xaxis.set_major_formatter(mdates.DateFormatter('%d %b %Y'))\n",
    "\n",
    "plt.xticks(rotation=90)\n",
    "plt.title('Flight (average) prices based on booking date');"
   ]
  },
  {
   "attachments": {},
   "cell_type": "markdown",
   "metadata": {},
   "source": [
    "#### (draft) Lineplot for São Paulo based on time and day of booking\n"
   ]
  },
  {
   "cell_type": "code",
   "execution_count": null,
   "metadata": {},
   "outputs": [],
   "source": [
    "lineplot_sao = dataset.loc[(dataset.arr_city=='GRU')].groupby(['out_airline_company','date'])['ticket_price'].agg(['mean'])\n",
    "lineplot_sao = lineplot_sao.reset_index()\n",
    "# lineplot_sao['date'] = pd.to_datetime(lineplot_sao['day_scrap'].astype(str) + ' ' + month + ' ' + year + ' '+ lineplot_sao['hour_scrap'].astype(str), format='%d %b %Y %H')\n",
    "lineplot_sao['date'] = lineplot_sao['date'].dt.strftime('%d %b %I %p')"
   ]
  },
  {
   "cell_type": "code",
   "execution_count": null,
   "metadata": {},
   "outputs": [],
   "source": [
    "lineplot_sao.head()"
   ]
  },
  {
   "cell_type": "code",
   "execution_count": null,
   "metadata": {},
   "outputs": [],
   "source": [
    "date_sao = lineplot_sao[lineplot_sao.out_airline_company == 'Lufthansa']['date'].tolist()\n",
    "price_lufthansa_sao = lineplot_sao[lineplot_sao.out_airline_company == 'Lufthansa']['mean'].tolist()\n",
    "price_swiss_sao = lineplot_sao[lineplot_sao.out_airline_company == 'Swiss']['mean'].tolist()"
   ]
  },
  {
   "cell_type": "code",
   "execution_count": null,
   "metadata": {},
   "outputs": [],
   "source": [
    "fig, ax1 = plt.subplots(figsize = (20,15))\n",
    "\n",
    "ax1.plot(date_sao, price_lufthansa_sao, color = 'k')\n",
    "plt.xticks(rotation=90)\n",
    "ax1.set_ylabel(\"Lufthansa price [€]\", color = 'k')\n",
    "ax2 = ax1.twinx()\n",
    "ax2.plot(date_sao, price_swiss_sao, color = \"royalblue\")\n",
    "ax2.set_ylabel(\"Swiss price [€]\", color = \"royalblue\")\n",
    "plt.xticks(rotation=90)\n",
    "plt.title('Flight (average) prices based on booking date');"
   ]
  },
  {
   "attachments": {},
   "cell_type": "markdown",
   "metadata": {},
   "source": [
    "## d. Scatter plot"
   ]
  },
  {
   "attachments": {},
   "cell_type": "markdown",
   "metadata": {},
   "source": [
    "##### d1. scatter plot for New York City"
   ]
  },
  {
   "cell_type": "code",
   "execution_count": null,
   "metadata": {},
   "outputs": [],
   "source": [
    "scatterplot_nyc = dataset.loc[(dataset.arr_city=='JFK')].groupby(['out_airline_company','tot_duration'])['ticket_price'].mean().reset_index(name='price')\n",
    "scatterplot_nyc"
   ]
  },
  {
   "cell_type": "code",
   "execution_count": null,
   "metadata": {},
   "outputs": [],
   "source": [
    "f6= (ggplot(scatterplot_nyc, aes(x='tot_duration', y='price', color='out_airline_company')) + \\\n",
    "    geom_point() + \\\n",
    "    labs(title='Cost vs duration of the flight',\n",
    "         x='Flight duration',\n",
    "         y='Flight Price',\n",
    "         color='Airline company') + \\\n",
    "    theme_bw()\n",
    ")\n",
    "f6"
   ]
  },
  {
   "attachments": {},
   "cell_type": "markdown",
   "metadata": {},
   "source": [
    "##### d2. scatter plot for São Paulo"
   ]
  },
  {
   "cell_type": "code",
   "execution_count": null,
   "metadata": {},
   "outputs": [],
   "source": [
    "scatterplot_sao = dataset.loc[(dataset.arr_city=='GRU')].groupby(['out_airline_company','tot_duration'])['ticket_price'].mean().reset_index(name='price')\n",
    "scatterplot_sao.head()"
   ]
  },
  {
   "cell_type": "code",
   "execution_count": null,
   "metadata": {},
   "outputs": [],
   "source": [
    "f7= (ggplot(scatterplot_sao, aes(x='tot_duration', y='price', color='out_airline_company')) + \\\n",
    "    geom_point() + \\\n",
    "    labs(title='Cost vs duration of the flight',\n",
    "         x='Flight duration',\n",
    "         y='Flight Price',\n",
    "         color='Airline company') + \\\n",
    "    theme_bw()\n",
    ")\n",
    "f7"
   ]
  },
  {
   "attachments": {},
   "cell_type": "markdown",
   "metadata": {},
   "source": [
    "## e. Heatmap"
   ]
  },
  {
   "cell_type": "code",
   "execution_count": null,
   "metadata": {},
   "outputs": [],
   "source": [
    "heatmap = dataset[['ticket_price', 'tot_duration','out_dep_time','out_arr_time','in_dep_time','in_arr_time','date','out_stop_num','in_stop_num']]\n",
    "\n",
    "\n",
    "heatmap['out_dep_time'] = pd.to_datetime(heatmap['out_dep_time'], format='%H:%M')\n",
    "heatmap['out_arr_time'] = pd.to_datetime(heatmap['out_arr_time'], format='%H:%M')\n",
    "heatmap['in_dep_time'] = pd.to_datetime(heatmap['out_arr_time'], format='%H:%M')\n",
    "heatmap['in_arr_time'] = pd.to_datetime(heatmap['out_arr_time'], format='%H:%M')\n",
    "\n",
    "heatmap"
   ]
  },
  {
   "cell_type": "code",
   "execution_count": null,
   "metadata": {},
   "outputs": [],
   "source": [
    "sns.set(rc={'figure.figsize':(16,6)})\n",
    "correlation_matrix = heatmap.corr().round(2)\n",
    "sns.heatmap(correlation_matrix, annot=True)\n",
    "plt.show()"
   ]
  }
 ],
 "metadata": {
  "kernelspec": {
   "display_name": "Python 3",
   "language": "python",
   "name": "python3"
  },
  "language_info": {
   "codemirror_mode": {
    "name": "ipython",
    "version": 3
   },
   "file_extension": ".py",
   "mimetype": "text/x-python",
   "name": "python",
   "nbconvert_exporter": "python",
   "pygments_lexer": "ipython3",
   "version": "3.11.3"
  },
  "orig_nbformat": 4
 },
 "nbformat": 4,
 "nbformat_minor": 2
}
