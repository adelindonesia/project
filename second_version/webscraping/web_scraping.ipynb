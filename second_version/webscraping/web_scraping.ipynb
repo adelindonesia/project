{
 "cells": [
  {
   "attachments": {},
   "cell_type": "markdown",
   "metadata": {},
   "source": [
    "# WEB SCRAPING"
   ]
  },
  {
   "attachments": {},
   "cell_type": "markdown",
   "metadata": {},
   "source": [
    "## Setting-up"
   ]
  },
  {
   "cell_type": "code",
   "execution_count": null,
   "metadata": {},
   "outputs": [],
   "source": [
    "from selenium import webdriver\n",
    "from selenium.webdriver.common.by import By\n",
    "from selenium.webdriver.common.action_chains import ActionChains\n",
    "\n",
    "import shutil\n",
    "\n",
    "import datetime\n",
    "import time\n",
    "\n",
    "import pandas as pd\n",
    "\n",
    "driver = webdriver.Chrome()\n",
    "driver.implicitly_wait(5)"
   ]
  },
  {
   "attachments": {},
   "cell_type": "markdown",
   "metadata": {},
   "source": [
    "## Functions"
   ]
  },
  {
   "cell_type": "code",
   "execution_count": null,
   "metadata": {},
   "outputs": [],
   "source": [
    "def navigate_to_url(driver=driver, url: str= \"https://www.booking.com/\") -> None:\n",
    "    \"\"\"\n",
    "    This function navigates to the specified URL using the provided driver and maximizes the window.\n",
    "\n",
    "    Args:\n",
    "    -----\n",
    "        driver : The web driver to use for navigation.\n",
    "            (Default sets to 'driver')\n",
    "    \n",
    "        url (str): The URL to navigate to. \n",
    "            (Default sets to \"https://www.booking.com/\")\n",
    "    \n",
    "    Return:\n",
    "    -------\n",
    "        None\n",
    "    \"\"\"\n",
    "    driver.get(url)\n",
    "    driver.maximize_window()"
   ]
  },
  {
   "cell_type": "code",
   "execution_count": null,
   "metadata": {},
   "outputs": [],
   "source": [
    "# def accept_coockies(driver = driver, popup_name: str = \"onetrust-accept-btn-handler\") -> None:\n",
    "#     \"\"\"\n",
    "#     This function finds and clicks on an element with the specified ID to accept cookies.\n",
    "    \n",
    "#     Args:\n",
    "#     -----\n",
    "#     driver: The web driver to use for finding and clicking on the element. \n",
    "#           (Default is `driver`)\n",
    "#     popup_name (str): The ID of the element to find and click on. \n",
    "#            (Default is \"onetrust-accept-btn-handler\")\n",
    "    \n",
    "#     Return:\n",
    "#     -------\n",
    "#     None\n",
    "#     \"\"\"\n",
    "\n",
    "#     driver.find_element(By.ID, popup_name).click()"
   ]
  },
  {
   "cell_type": "code",
   "execution_count": null,
   "metadata": {},
   "outputs": [],
   "source": [
    "def manage_coockies(driver = driver, popup_name: str = \"onetrust-pc-btn-handler\") -> None:\n",
    "    \"\"\"\n",
    "    This function finds and clicks on an element with the specified ID to manage cookies. It then finds and clicks on a button with the text 'Confirm My Choices'.\n",
    "\n",
    "    Args:\n",
    "    -----\n",
    "    driver : The web driver to use for finding and clicking on the elements.\n",
    "    (Default sets to 'driver')\n",
    " \n",
    "    popup_name (str): The ID of the element to find and click on. \n",
    "    (Default sets to \"onetrust-pc-btn-handler\")\n",
    " \n",
    "    Return:\n",
    "    -------\n",
    "    None\n",
    "    \"\"\"\n",
    "    \n",
    "    driver.find_element(By.ID, popup_name).click()\n",
    "    driver.find_element(By.XPATH, \"//button[text()='Confirm My Choices']\").click()"
   ]
  },
  {
   "cell_type": "code",
   "execution_count": null,
   "metadata": {},
   "outputs": [],
   "source": [
    "def go_to_flights(driver = driver, name = \"Flights\"):\n",
    "    driver.find_element(By.LINK_TEXT, name).click()"
   ]
  },
  {
   "cell_type": "code",
   "execution_count": null,
   "metadata": {},
   "outputs": [],
   "source": [
    "def input_from_city_airport(driver = driver, city: str = \"brussels\", airport: str = \"AIRPORTBRU\") -> None:\n",
    "    \"\"\"\n",
    "    This function finds and clicks on an element to input the departure city and airport. \n",
    "    It clears the input bar to avoid unwanted input, inputs the departure city and airport, \n",
    "    and clicks on the airport.\n",
    "\n",
    "    Args:\n",
    "    -----\n",
    "    driver : The web driver to use for finding and clicking on the elements.\n",
    "    (Default sets to 'driver')\n",
    " \n",
    "    city (str): The departure city to input. \n",
    "    (Default sets to \"brussels\")\n",
    "    \n",
    "    airport (str): The departure airport to input. \n",
    "    (Default sets to \"AIRPORTBRU\")\n",
    " \n",
    "    Return:\n",
    "    -------\n",
    "    None\n",
    "    \"\"\"\n",
    "    driver.find_element(By.CSS_SELECTOR, \"button[data-ui-name='input_location_from_segment_0']\").click()\n",
    "\n",
    "    # Clear bar to avoid unwanted input\n",
    "    driver.find_element(By.CSS_SELECTOR, \".css-rh2lq6\").click()\n",
    "\n",
    "    # Input departure city\n",
    "    fly_from = driver.find_element(By.CSS_SELECTOR, \"input[data-ui-name='input_text_autocomplete']\")\n",
    "    fly_from.send_keys('  ' + city.lower())\n",
    "    fly_from_airport = driver.find_element(By.CSS_SELECTOR, f\"input[name='{airport.upper()}']\")\n",
    "    fly_from_airport.click()"
   ]
  },
  {
   "cell_type": "code",
   "execution_count": null,
   "metadata": {},
   "outputs": [],
   "source": [
    "def input_to_city_airport(driver = driver, city: str = \"new york\", airport: str = \"AIRPORTJFK\") -> None:\n",
    "    \"\"\"\n",
    "    This function finds and clicks on an element to input the departure city and airport. \n",
    "    It clears the input bar to avoid unwanted input, inputs the departure city and airport, \n",
    "    and clicks on the airport.\n",
    "\n",
    "    Args:\n",
    "    -----\n",
    "    driver : The web driver to use for finding and clicking on the elements.\n",
    "    (Default sets to 'driver')\n",
    " \n",
    "    city (str): The departure city to input. \n",
    "    (Default sets to \"jakarta\")\n",
    "    \n",
    "    airport (str): The departure airport to input. \n",
    "    (Default sets to \"AIRPORTCGK\")\n",
    " \n",
    "    Return:\n",
    "    -------\n",
    "    None\n",
    "    \"\"\"\n",
    "    driver.find_element(By.CSS_SELECTOR, \"button[data-ui-name='input_location_to_segment_0']\").click()\n",
    "    fly_to = driver.find_element(By.CSS_SELECTOR, \"input[data-ui-name='input_text_autocomplete']\")\n",
    "    fly_to.send_keys('  ' + city.lower())\n",
    "    fly_to_airport = driver.find_element(By.CSS_SELECTOR, f\"input[name='{airport.upper()}']\")\n",
    "    fly_to_airport.click()"
   ]
  },
  {
   "cell_type": "code",
   "execution_count": null,
   "metadata": {},
   "outputs": [],
   "source": [
    "def round_trip_date_chooser(driver=driver, css_from_date: str= 'span[data-date=\"2023-08-01\"]', css_to_date: str='span[data-date=\"2023-08-15\"]'):\n",
    "    \"\"\"\n",
    "    This function finds and clicks on elements to choose the departure and arrival dates for a round trip. It clicks on the date button, clicks on the arrow to navigate to the desired month, clicks on the departure and arrival dates, and clicks on the search button.\n",
    "\n",
    "    Args:\n",
    "    -----\n",
    "    driver : The web driver to use for finding and clicking on the elements.\n",
    "    (Default sets to 'driver')\n",
    " \n",
    "    css_from_date (str): The CSS selector for the departure date element. \n",
    "    (Default sets to 'span[data-date=\"2023-08-01\"]')\n",
    "    \n",
    "    css_to_date (str): The CSS selector for the arrival date element. \n",
    "    (Default sets to 'span[data-date=\"2023-08-15\"]')\n",
    " \n",
    "    Return:\n",
    "    -------\n",
    "    None\n",
    "    \"\"\"\n",
    "    date_roundtrip_click = driver.find_element(By.CSS_SELECTOR, 'button[data-ui-name=\"button_date_segment_0\"]')\n",
    "    date_roundtrip_click.click()\n",
    "    arrow = driver.find_element(By.CSS_SELECTOR, 'button[class=\"Actionable-module__root___lQCcK Button-module__root___puEjU Button-module__root--variant-tertiary___MhiYJ Button-module__root--icon-only___uhCdT Button-module__root--size-large___Oef9C Button-module__root--wide-false___ngEa+ Button-module__root--variant-tertiary-neutral___zGwxJ Calendar-module__control___5hEew Calendar-module__control--next___N9ipu\"]')\n",
    "    arrow.click()\n",
    "    dep_date_button = driver.find_element(By.CSS_SELECTOR, css_from_date)\n",
    "    dep_date_button.click()\n",
    "    arr_date_button = driver.find_element(By.CSS_SELECTOR, css_to_date)\n",
    "    arr_date_button.click()\n",
    "    search_click = driver.find_element(By.CSS_SELECTOR, 'button[data-ui-name=\"button_search_submit\"]')\n",
    "    search_click.click()"
   ]
  },
  {
   "cell_type": "code",
   "execution_count": null,
   "metadata": {},
   "outputs": [],
   "source": [
    "# def airline_chooser(driver = driver, airline_1: str= \"Lufthansa\", airline_2: str=\"Swiss\"):\n",
    "def airline_chooser(driver = driver, airline_1: str= \"Lufthansa\"):\n",
    "\n",
    "    \"\"\"\n",
    "    This function finds and clicks on elements to choose the desired airlines. \n",
    "    It sleeps for 2 seconds, clicks on the ticket type element, sleeps for 2 seconds, \n",
    "    hovers over the first airline element, sleeps for 2 seconds, \n",
    "    and clicks on the first and second airline elements.\n",
    "\n",
    "    Args:\n",
    "    -----\n",
    "    driver : The web driver to use for finding and clicking on the elements.\n",
    "    (Default sets to 'driver')\n",
    " \n",
    "    airline_1 (str): The first airline to choose. \n",
    "    (Default sets to \"Lufthansa\")\n",
    "    \n",
    "    airline_2 (str): The second airline to choose. \n",
    "    (Default sets to \"Qatar Airways\")\n",
    " \n",
    "    Return:\n",
    "    -------\n",
    "    None\n",
    "    \"\"\"\n",
    "    time.sleep(2)\n",
    "    ticket_type = driver.find_element(By.CSS_SELECTOR, \".Link-module__root--variant-primary___skVxI, .Link-module__root--variant-secondary___IJWjg\")\n",
    "    ticket_type.click()\n",
    "    time.sleep(2)\n",
    "    element_to_hover_over = driver.find_element(By.CSS_SELECTOR, \"[data-testid='search_filter_airline_\" + airline_1 + \"']\")\n",
    "    hover = ActionChains(driver).move_to_element(element_to_hover_over)\n",
    "    hover.perform()\n",
    "    time.sleep(2)\n",
    "    air_1 = driver.find_element(By.CSS_SELECTOR, 'button[class=\"Actionable-module__root___lQCcK Link-module__root___Jo24k Link-module__root--variant-primary___skVxI\"]')\n",
    "    air_1.click()\n",
    "    # air_2 = driver.find_element(By.CSS_SELECTOR, \"[data-testid='search_filter_airline_\" + airline_2 + \"']\" )\n",
    "    # air_2.click()"
   ]
  },
  {
   "cell_type": "code",
   "execution_count": null,
   "metadata": {},
   "outputs": [],
   "source": [
    "def scrape_card(card_number: int = 0) -> dict:\n",
    "    \"\"\"\n",
    "    Function that generates a dictionary of a specific flight-card (in this case round-trip ticket).\n",
    "\n",
    "    Args:\n",
    "    -----\n",
    "        driver : The web driver to use for finding and clicking on the elements.\n",
    "                        (Default sets to 'driver')\n",
    "        \n",
    "        card_number (int): number of flight card interested in\n",
    "                        (Default sets to 0)\n",
    "\n",
    "    Returns:\n",
    "    --------\n",
    "        dict: dictionnary of a specific flight-card\n",
    "\n",
    "    Comments:\n",
    "    ---------\n",
    "        flight-cards: the offred results obtain when searching flight tickets. \n",
    "                        A flight-card includes relevant information of a flight-ticket.\n",
    "        \n",
    "        card_number: always starts at 0, \n",
    "                    i.e., the number of the first flight-card is 0.\n",
    "        \n",
    "        dictionnary: it contains 18 values which are,\n",
    "\n",
    "            out_airline_company : name of the airline company for the outbound flight\n",
    "            in_airline_company  : name of the airline company for the inbound flight\n",
    "            dep_city            : departure city (where the flight starts form)\n",
    "            arr_city            : arrival city (the destination of the flight)\n",
    "            out_dep_date        : departure day of the outbound flight\n",
    "            out_dep_time        : departure time of the outbound flight\n",
    "            out_duration        : lenght (duration) of the outbound flight\n",
    "            out_stop_number     : number of stopover(s) or layover(s)\n",
    "            out_arr_date        : arrival day of the outbound flight\n",
    "            out_arr_time        : arrival time of the outbound flight\n",
    "            in_dep_date         : departure day of the inbound flight\n",
    "            in_dep_time         : departure time of the inbound flight\n",
    "            in_duration         : lenght of the inbound flight\n",
    "            in_stop_num         : number of stopover(s) or layover(s)\n",
    "            in_arr_date         : arrival day of the inbound flight\n",
    "            in_arr_time         : arrival time of the inbound flight\n",
    "            price_ticket        : flight price ticket\n",
    "\n",
    "            hour_scrap          : hour in which the scrap has been done\n",
    "            day_scrap           : day which the scrap has been performed\n",
    "    \"\"\"\n",
    "    ticket = {}\n",
    "    \n",
    "    ticket['out_airline_company']= driver.find_element(\n",
    "        By.XPATH, f'//*[@id=\"flight-card-{card_number}\"]/div/div/div[1]/div[3]/div/div/div'\n",
    "        ).text\n",
    "    \n",
    "    ticket['in_airline_company']= driver.find_element(\n",
    "        By.XPATH, f'//*[@id=\"flight-card-{card_number}\"]/div/div/div[1]/div[6]/div/div/div'\n",
    "        ).text\n",
    "    \n",
    "    ticket['dep_city'] = driver.find_element(\n",
    "        By.XPATH, f'//*[@id=\"flight-card-{card_number}\"]/div/div/div[1]/div[1]/div[2]/div/div/div[1]/div[2]/div[1]'\n",
    "        ).text\n",
    "    \n",
    "    ticket['arr_city'] = driver.find_element(\n",
    "        By.XPATH, f'//*[@id=\"flight-card-{card_number}\"]/div/div/div[1]/div[1]/div[2]/div/div/div[3]/div[2]/div[1]'\n",
    "        ).text\n",
    "    \n",
    "    ticket['out_dep_date'] = driver.find_element(\n",
    "        By.XPATH, f'//*[@id=\"flight-card-{card_number}\"]/div/div/div[1]/div[1]/div[2]/div/div/div[1]/div[2]/div[3]'\n",
    "        ).text\n",
    "\n",
    "    ticket['out_dep_time'] =  driver.find_element(\n",
    "        By.XPATH, f'//*[@id=\"flight-card-{card_number}\"]/div/div/div[1]/div[1]/div[2]/div/div/div[1]/div[1]'\n",
    "        ).text\n",
    "    \n",
    "    ticket['out_duration'] = driver.find_element(\n",
    "        By.XPATH, f\"//*[@id='flight-card-{card_number}']/div/div/div[1]/div[1]/div[2]/div/div/div[2]/div[1]\"\n",
    "        ).text\n",
    "    \n",
    "    ticket['out_stop_num'] = driver.find_element(\n",
    "        By.XPATH, f\"//*[@id='flight-card-{card_number}']/div/div/div[1]/div[1]/div[2]/div/div/div[2]/div[3]\"\n",
    "        ).text\n",
    "    \n",
    "    ticket['out_arr_date'] = driver.find_element(\n",
    "        By.XPATH, f'//*[@id=\"flight-card-{card_number}\"]/div/div/div[1]/div[1]/div[2]/div/div/div[3]/div[2]/div[3]'\n",
    "        ).text\n",
    "    \n",
    "    ticket['out_arr_time'] = driver.find_element(\n",
    "        By.XPATH, f\"//*[@id='flight-card-{card_number}']/div/div/div[1]/div[1]/div[2]/div/div/div[3]/div[1]\"\n",
    "        ).text\n",
    "    \n",
    "    ticket['in_dep_date'] = driver.find_element(\n",
    "        By.XPATH, f'//*[@id=\"flight-card-{card_number}\"]/div/div/div[1]/div[4]/div[2]/div/div/div[1]/div[2]/div[3]'\n",
    "        ).text\n",
    "    \n",
    "    ticket['in_dep_time'] = driver.find_element(\n",
    "        By.XPATH, f'//*[@id=\"flight-card-{card_number}\"]/div/div/div[1]/div[4]/div[2]/div/div/div[1]/div[1]'\n",
    "        ).text\n",
    "    \n",
    "    ticket['in_duration'] = driver.find_element(\n",
    "        By.XPATH, f'//*[@id=\"flight-card-{card_number}\"]/div/div/div[1]/div[4]/div[2]/div/div/div[2]/div[1]'\n",
    "        ).text\n",
    "    \n",
    "    ticket['in_stop_num'] = driver.find_element(\n",
    "        By.XPATH, f'//*[@id=\"flight-card-{card_number}\"]/div/div/div[1]/div[4]/div[2]/div/div/div[2]/div[3]'\n",
    "        ).text\n",
    "\n",
    "    ticket['in_arr_date'] = driver.find_element(\n",
    "        By.XPATH, f'//*[@id=\"flight-card-{card_number}\"]/div/div/div[1]/div[4]/div[2]/div/div/div[3]/div[2]/div[3]'\n",
    "        ).text\n",
    "    \n",
    "    ticket['in_arr_time'] = driver.find_element(\n",
    "        By.XPATH, f'//*[@id=\"flight-card-{card_number}\"]/div/div/div[1]/div[4]/div[2]/div/div/div[3]/div[1]'\n",
    "        ).text\n",
    "    \n",
    "    see_flight = driver.find_element(\n",
    "        By.XPATH, f'//*[@id=\"flight-card-{card_number}\"]/div/div/div[2]/div[2]/button'\n",
    "    ).click()\n",
    "\n",
    "    container = driver.find_elements(By.CSS_SELECTOR, \".SheetContainer-module__content___WX8xI\")\n",
    "    ticket['price_ticket'] = container[0].find_element(\n",
    "        By.CSS_SELECTOR, \".css-vxcmzt\"\n",
    "        ).text\n",
    "    driver.back()\n",
    "\n",
    "\n",
    "    current_time = datetime.datetime.now()\n",
    "\n",
    "    ticket['hour_scrap'] = current_time.hour\n",
    "    ticket['day_scrap'] = current_time.day\n",
    "    \n",
    "    return(ticket)"
   ]
  },
  {
   "cell_type": "code",
   "execution_count": null,
   "metadata": {},
   "outputs": [],
   "source": [
    "def scrape_cards(my_list: list = [])->list:\n",
    "    \"\"\"\n",
    "    Function that generates list of dictionaries of n flight-card(s) for one search result page.\n",
    "\n",
    "    Args:\n",
    "    -----\n",
    "        n_cards (int): n first flight-card(s)\n",
    "        (Default sets to total number of flight-cards in one page)\n",
    "    \n",
    "    Returns:\n",
    "    --------\n",
    "        list: list of dictionnaries\n",
    "    \"\"\"\n",
    "    n_cards = len(driver.find_elements(By.CSS_SELECTOR, \".css-4o3ibe\"))\n",
    "\n",
    "    for i in range(0, n_cards-1):\n",
    "        my_list.append(scrape_card(i))\n",
    "\n",
    "    return(my_list)"
   ]
  },
  {
   "cell_type": "code",
   "execution_count": null,
   "metadata": {},
   "outputs": [],
   "source": [
    "list1 = []\n",
    "list2 = []\n",
    "def get_pages(list_pages: list = list1) -> list:\n",
    "    \"\"\"\n",
    "    This function scrapes data from multiple pages by finding the total number of pages \n",
    "    and iterating through them. It scrapes the data from the cards on each page, sleeps for 2 seconds, \n",
    "    clicks on the next button, sleeps for 2 seconds, and scrapes the data from the cards on the next page.\n",
    "\n",
    "    Args:\n",
    "    -----\n",
    "    driver : The web driver to use for finding and clicking on the elements.\n",
    "    (Default sets to 'driver')\n",
    "\n",
    "    my_list (list): The list to append the scraped data to.\n",
    "    (Default sets to 'list1')\n",
    " \n",
    "    Return:\n",
    "    -------\n",
    "    list: The list with the appended scraped data.\n",
    "    \"\"\"\n",
    "    \n",
    "    tot_pages = len(driver.find_elements(By.CSS_SELECTOR, '.Pagination-module__link___XUrx7, .Pagination-module__link___XUrx7:link, .Pagination-module__link___XUrx7:visited, .Pagination-module__separator___hRwOo'))\n",
    "    for i in range(1, tot_pages+1):\n",
    "        print(f\"Scraping page {i}\")\n",
    "        next_button = driver.find_element(By.CSS_SELECTOR, f'button[aria-label=\" {i}\"]')\n",
    "        next_button.click()\n",
    "        scrape_cards(list_pages)\n",
    "        time.sleep(3)\n",
    "        # time.sleep(3)\n",
    "    \n",
    "    scrape_cards(list_pages)\n",
    "    \n",
    "    return(list_pages) "
   ]
  },
  {
   "cell_type": "code",
   "execution_count": null,
   "metadata": {},
   "outputs": [],
   "source": [
    "cur_time = datetime.datetime.now()\n",
    "day = cur_time.day\n",
    "hour = cur_time.strftime(\"%I\")\n",
    "hour_spe = cur_time.strftime(\"%p\")\n",
    "\n",
    "    \n",
    "def convert_list(list1: list = list1, list2: list = list2):\n",
    "    df1 = pd.DataFrame(list1)\n",
    "    df2 = pd.DataFrame(list2)\n",
    "    df = pd.concat([df1, df2], ignore_index=True)\n",
    "\n",
    "    df.to_csv(f'booking_{day}_may_{hour}_{hour_spe}.csv', index=False)\n",
    "    df.to_excel(f'booking_{day}_may_{hour}_{hour_spe}.xlsx', index=False)\n",
    "\n",
    "    print(\"List has been successfully convert into excel and csv files\")\n",
    "    return(df)\n"
   ]
  },
  {
   "cell_type": "code",
   "execution_count": null,
   "metadata": {},
   "outputs": [],
   "source": [
    "def export_files(name_folder : str = 'bxl_to_nyc'):\n",
    "    shutil.move(f'booking_{day}_may_{hour}_{hour_spe}.csv', name_folder)\n",
    "    shutil.move(f'booking_{day}_may_{hour}_{hour_spe}.xlsx', name_folder)\n",
    "\n",
    "    print(f\"The files have been exported to the right folder, i.e., {name_folder}\")"
   ]
  },
  {
   "attachments": {},
   "cell_type": "markdown",
   "metadata": {},
   "source": [
    "## Data scraping of round flight from Bruxelles to New York City"
   ]
  },
  {
   "attachments": {},
   "cell_type": "markdown",
   "metadata": {},
   "source": [
    "1. Scrap data into list of dictionaries"
   ]
  },
  {
   "cell_type": "code",
   "execution_count": null,
   "metadata": {},
   "outputs": [],
   "source": [
    "navigate_to_url()\n",
    "manage_coockies()\n",
    "go_to_flights()\n",
    "input_from_city_airport()\n",
    "input_to_city_airport()\n",
    "round_trip_date_chooser()\n"
   ]
  },
  {
   "cell_type": "code",
   "execution_count": null,
   "metadata": {},
   "outputs": [],
   "source": [
    "airline_chooser()"
   ]
  },
  {
   "cell_type": "code",
   "execution_count": null,
   "metadata": {},
   "outputs": [],
   "source": [
    "list1 = get_pages()"
   ]
  },
  {
   "cell_type": "code",
   "execution_count": null,
   "metadata": {},
   "outputs": [],
   "source": [
    "airline_chooser(airline_1 = \"Swiss\")\n",
    "list2 = get_pages(list2)"
   ]
  },
  {
   "attachments": {},
   "cell_type": "markdown",
   "metadata": {},
   "source": [
    "2. Convert dataframe to CSV and Excel files"
   ]
  },
  {
   "cell_type": "code",
   "execution_count": null,
   "metadata": {},
   "outputs": [],
   "source": [
    "convert_list()"
   ]
  },
  {
   "attachments": {},
   "cell_type": "markdown",
   "metadata": {},
   "source": [
    "3. Export files to the respective folder"
   ]
  },
  {
   "cell_type": "code",
   "execution_count": null,
   "metadata": {},
   "outputs": [],
   "source": [
    "export_files()"
   ]
  },
  {
   "attachments": {},
   "cell_type": "markdown",
   "metadata": {},
   "source": [
    "## Data scraping of round flight from Bruxelles to São Paulo"
   ]
  },
  {
   "attachments": {},
   "cell_type": "markdown",
   "metadata": {},
   "source": [
    "1. Scrap data into list of dictionaries"
   ]
  },
  {
   "cell_type": "code",
   "execution_count": null,
   "metadata": {},
   "outputs": [],
   "source": [
    "# navigate_to_url()\n",
    "# manage_coockies()\n",
    "go_to_flights()\n",
    "input_from_city_airport()\n",
    "input_to_city_airport(city=\"brazil\", airport=\"AIRPORTGRU\")\n",
    "round_trip_date_chooser()"
   ]
  },
  {
   "cell_type": "code",
   "execution_count": null,
   "metadata": {},
   "outputs": [],
   "source": [
    "airline_chooser()"
   ]
  },
  {
   "cell_type": "code",
   "execution_count": null,
   "metadata": {},
   "outputs": [],
   "source": [
    "list3 = []\n",
    "list4 = []\n",
    "list3 = get_pages(list_pages = list3)"
   ]
  },
  {
   "cell_type": "code",
   "execution_count": null,
   "metadata": {},
   "outputs": [],
   "source": [
    "airline_chooser(airline_1=\"Swiss\")"
   ]
  },
  {
   "cell_type": "code",
   "execution_count": null,
   "metadata": {},
   "outputs": [],
   "source": [
    "list4 = get_pages(list_pages=list4)"
   ]
  },
  {
   "cell_type": "code",
   "execution_count": null,
   "metadata": {},
   "outputs": [],
   "source": [
    "driver.quit()"
   ]
  },
  {
   "attachments": {},
   "cell_type": "markdown",
   "metadata": {},
   "source": [
    "2. Convert dataframe to CSV and Excel files"
   ]
  },
  {
   "cell_type": "code",
   "execution_count": null,
   "metadata": {},
   "outputs": [],
   "source": [
    "convert_list(list1= list3, list2=list4)"
   ]
  },
  {
   "attachments": {},
   "cell_type": "markdown",
   "metadata": {},
   "source": [
    "3. Export files to the respective folder"
   ]
  },
  {
   "cell_type": "code",
   "execution_count": null,
   "metadata": {},
   "outputs": [],
   "source": [
    "export_files('bxl_to_sao')"
   ]
  }
 ],
 "metadata": {
  "kernelspec": {
   "display_name": "Python 3",
   "language": "python",
   "name": "python3"
  },
  "language_info": {
   "codemirror_mode": {
    "name": "ipython",
    "version": 3
   },
   "file_extension": ".py",
   "mimetype": "text/x-python",
   "name": "python",
   "nbconvert_exporter": "python",
   "pygments_lexer": "ipython3",
   "version": "3.11.3"
  },
  "orig_nbformat": 4
 },
 "nbformat": 4,
 "nbformat_minor": 2
}
