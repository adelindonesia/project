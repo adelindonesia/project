{
 "cells": [
  {
   "cell_type": "code",
   "execution_count": 1,
   "metadata": {},
   "outputs": [],
   "source": [
    "import pandas as pd"
   ]
  },
  {
   "cell_type": "code",
   "execution_count": 2,
   "metadata": {},
   "outputs": [],
   "source": [
    "def read_csv_files(destination, dates, result=None):\n",
    "    if result is None:\n",
    "        dfs = []\n",
    "        for date in dates:\n",
    "            filename = f\"..\\\\web_scrapping\\\\Bxl_{destination}\\\\booking_{date}.csv\"\n",
    "            df = pd.read_csv(filename)\n",
    "            dfs.append(df)\n",
    "        result = pd.concat(dfs, axis=0, ignore_index=True)\n",
    "    else:\n",
    "        for date in dates:\n",
    "            filename = f\"..\\\\web_scrapping\\\\Bxl_{destination}\\\\booking_{date}.csv\"\n",
    "            df = pd.read_csv(filename)\n",
    "            result = pd.concat([result, df], axis=0, ignore_index=True)\n",
    "    return result"
   ]
  },
  {
   "cell_type": "code",
   "execution_count": 3,
   "metadata": {},
   "outputs": [],
   "source": [
    "dates = [\"14_may_06_PM\", \"15_may_07_AM\", \"15_may_10_AM\", \"15_may_01_PM\", \"15_may_04_PM\"]\n",
    "dates.append(\"15_may_07_PM\")\n",
    "dates.append(\"16_may_07_AM\")"
   ]
  },
  {
   "cell_type": "code",
   "execution_count": 4,
   "metadata": {},
   "outputs": [],
   "source": [
    "df1 = read_csv_files( \"Jakarta\", dates)"
   ]
  },
  {
   "cell_type": "code",
   "execution_count": 5,
   "metadata": {},
   "outputs": [],
   "source": [
    "def transfomed_df(df=df1):\n",
    "    df['airline_company'] = df['airline_company'].str.split(\",\").str[0]\n",
    "    df['out_stop_num'] = df['out_stop_num'].str.split(' ').str[0]\n",
    "    df['in_stop_num'] = df['in_stop_num'].str.split(' ').str[0]\n",
    "\n",
    "    split_df = df.pop('price_ticket').str.rsplit(' ', n=1, expand=True).rename(columns={0: 'ticket_price', 1: 'currency'})\n",
    "    df = df.join(split_df)\n",
    "    df['ticket_price'] = df['ticket_price'].str.replace(',', '.').str.replace(' ', '').astype(float)\n",
    "\n",
    "    date_cols = [col for col in df.columns if col.endswith('_date')]\n",
    "    year= '2023'\n",
    "    for col in date_cols:\n",
    "        df[col] = pd.to_datetime(df[col] + ' ' + year, format='%b %d %Y')\n",
    "    \n",
    "    time_cols = [col for col in df.columns if col.endswith('_time')]\n",
    "    df[time_cols] = df[time_cols].apply(lambda x: pd.to_datetime(x, format='%I:%M %p').dt.strftime('%H:%M'))\n",
    "\n",
    "    duration_cols = [col for col in df.columns if col.endswith('_duration')]\n",
    "    df[duration_cols] = df[duration_cols].applymap(lambda x: pd.to_timedelta(x.replace('h', ' hours ').replace('m', ' min')))\n",
    "\n",
    "    return df\n"
   ]
  },
  {
   "cell_type": "code",
   "execution_count": 6,
   "metadata": {},
   "outputs": [],
   "source": [
    "Jakarta_cleaned_data = transfomed_df()"
   ]
  },
  {
   "attachments": {},
   "cell_type": "markdown",
   "metadata": {},
   "source": [
    "Two dataframes, df2 and df3, are merged. df2 includes all csv files with Jakarta dictionaries. The code has been adjusted to only retrieve Tokyo dictionaries, which are available in all files after df2."
   ]
  },
  {
   "cell_type": "code",
   "execution_count": 7,
   "metadata": {},
   "outputs": [],
   "source": [
    "dates = [\"14_may_06_PM\", \"15_may_07_AM\"]\n",
    "df2 = read_csv_files( \"Tokyo\", dates)"
   ]
  },
  {
   "cell_type": "code",
   "execution_count": 8,
   "metadata": {},
   "outputs": [],
   "source": [
    "df2 = df2.loc[df2['arr_city'] != 'CGK']\n",
    "df2 = df2.reset_index(drop=True)"
   ]
  },
  {
   "cell_type": "code",
   "execution_count": 9,
   "metadata": {},
   "outputs": [],
   "source": [
    "dates = [\"15_may_10_AM\", \"15_may_01_PM\", \"15_may_04_PM\", \"15_may_07_PM\"]\n",
    "dates.append(\"16_may_07_AM\")"
   ]
  },
  {
   "cell_type": "code",
   "execution_count": 10,
   "metadata": {},
   "outputs": [],
   "source": [
    "df3 = read_csv_files( \"Tokyo\", dates)\n",
    "df2 = pd.concat([df2, df3], ignore_index=True)"
   ]
  },
  {
   "cell_type": "code",
   "execution_count": 11,
   "metadata": {},
   "outputs": [],
   "source": [
    "Tokyo_cleaned_data=transfomed_df(df2)"
   ]
  }
 ],
 "metadata": {
  "kernelspec": {
   "display_name": "Python 3",
   "language": "python",
   "name": "python3"
  },
  "language_info": {
   "codemirror_mode": {
    "name": "ipython",
    "version": 3
   },
   "file_extension": ".py",
   "mimetype": "text/x-python",
   "name": "python",
   "nbconvert_exporter": "python",
   "pygments_lexer": "ipython3",
   "version": "3.11.1"
  },
  "orig_nbformat": 4
 },
 "nbformat": 4,
 "nbformat_minor": 2
}
