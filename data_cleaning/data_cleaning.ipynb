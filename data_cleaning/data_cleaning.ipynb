{
 "cells": [
  {
   "cell_type": "code",
   "execution_count": 1,
   "metadata": {},
   "outputs": [],
   "source": [
    "import pandas as pd"
   ]
  },
  {
   "attachments": {},
   "cell_type": "markdown",
   "metadata": {},
   "source": [
    "# Clean and preprocess the data"
   ]
  },
  {
   "attachments": {},
   "cell_type": "markdown",
   "metadata": {},
   "source": [
    "### Get the data in one single dataframe"
   ]
  },
  {
   "cell_type": "code",
   "execution_count": 2,
   "metadata": {},
   "outputs": [],
   "source": [
    "def read_csv_files(destination, dates, result=None):\n",
    "    \"\"\"\n",
    "    This function concatenates multiple CSV files into a single DataFrame. \n",
    "    If the result is None, it creates a list of DataFrames from the CSV files and concatenates them. \n",
    "    If the result is not None, it appends the DataFrames from the CSV files to the result.\n",
    "\n",
    "    Args:\n",
    "    -----\n",
    "    result : The DataFrame to append the data to. If None, a new DataFrame is created.\n",
    " \n",
    "    dates (list): The list of dates to use for the filenames of the CSV files.\n",
    "    \n",
    "    destination (str): The destination to use for the filenames of the CSV files.\n",
    " \n",
    "    Return:\n",
    "    -------\n",
    "    DataFrame: The concatenated DataFrame.\n",
    "    \"\"\"\n",
    "    if result is None:\n",
    "        dfs = []\n",
    "        for date in dates:\n",
    "            filename = f\"..\\\\web_scrapping\\\\Bxl_{destination}\\\\booking_{date}.csv\"\n",
    "            df = pd.read_csv(filename)\n",
    "            dfs.append(df)\n",
    "        result = pd.concat(dfs, axis=0, ignore_index=True)\n",
    "    else:\n",
    "        for date in dates:\n",
    "            filename = f\"..\\\\web_scrapping\\\\Bxl_{destination}\\\\booking_{date}.csv\"\n",
    "            df = pd.read_csv(filename)\n",
    "            result = pd.concat([result, df], axis=0, ignore_index=True)\n",
    "    return result"
   ]
  },
  {
   "cell_type": "code",
   "execution_count": 3,
   "metadata": {},
   "outputs": [],
   "source": [
    "def transfomed_df1(df):\n",
    "    \"\"\"\n",
    "    This function transforms a DataFrame by splitting and renaming columns, \n",
    "    converting data types, and applying functions to columns.\n",
    "\n",
    "    Args:\n",
    "    -----\n",
    "    df : The DataFrame to transform.\n",
    " \n",
    "    Return:\n",
    "    -------\n",
    "    DataFrame: The transformed DataFrame.\n",
    "    \"\"\"\n",
    "    \n",
    "    df['airline_company'] = df['airline_company'].str.split(\",\").str[0]\n",
    "    df['out_stop_num'] = df['out_stop_num'].str.split(' ').str[0]\n",
    "    df['in_stop_num'] = df['in_stop_num'].str.split(' ').str[0]\n",
    "\n",
    "    split_df = df.pop('price_ticket').str.rsplit(' ', n=1, expand=True).rename(columns={0: 'ticket_price', 1: 'currency'})\n",
    "    df = df.join(split_df)\n",
    "    df['ticket_price'] = df['ticket_price'].str.replace(',', '.').str.replace(' ', '').astype(float)\n",
    "\n",
    "    date_cols = [col for col in df.columns if col.endswith('_date')]\n",
    "    year= '2023'\n",
    "    for col in date_cols:\n",
    "        df[col] = pd.to_datetime(df[col] + ' ' + year, format='%b %d %Y')\n",
    "    \n",
    "    time_cols = [col for col in df.columns if col.endswith('_time')]\n",
    "    df[time_cols] = df[time_cols].apply(lambda x: pd.to_datetime(x, format='%I:%M %p').dt.strftime('%H:%M'))\n",
    "\n",
    "    duration_cols = [col for col in df.columns if col.endswith('_duration')]\n",
    "    df[duration_cols] = df[duration_cols].applymap(lambda x: pd.to_timedelta(x.replace('h', ' hours ').replace('m', ' min')))\n",
    "\n",
    "    return df"
   ]
  },
  {
   "cell_type": "code",
   "execution_count": 4,
   "metadata": {},
   "outputs": [],
   "source": [
    "def transfomed_df2(df):\n",
    "    \"\"\"\n",
    "    This function transforms a DataFrame by splitting and renaming columns, \n",
    "    converting data types, and applying functions to columns.\n",
    "\n",
    "    Args:\n",
    "    -----\n",
    "    df : The DataFrame to transform.\n",
    " \n",
    "    Return:\n",
    "    -------\n",
    "    DataFrame: The transformed DataFrame.\n",
    "    \"\"\"\n",
    "    air_cols = [col for col in df.columns if col.endswith('_airline_company')]\n",
    "    df[air_cols] = df[air_cols].astype(str)\n",
    "    df[air_cols] = df[air_cols].apply(lambda x: x.str.split(\",\").str[0])\n",
    "    \n",
    "    df['out_stop_num'] = df['out_stop_num'].str.split(' ').str[0]\n",
    "    df['in_stop_num'] = df['in_stop_num'].str.split(' ').str[0]\n",
    "\n",
    "    split_df = df.pop('price_ticket').str.rsplit(' ', n=1, expand=True).rename(columns={0: 'ticket_price', 1: 'currency'})\n",
    "    df = df.join(split_df)\n",
    "    df['ticket_price'] = df['ticket_price'].str.replace(',', '.').str.replace(' ', '').astype(float)\n",
    "\n",
    "    date_cols = [col for col in df.columns if col.endswith('_date')]\n",
    "    year= '2023'\n",
    "    for col in date_cols:\n",
    "        df[col] = pd.to_datetime(df[col] + ' ' + year, format='%b %d %Y')\n",
    "    \n",
    "    time_cols = [col for col in df.columns if col.endswith('_time')]\n",
    "    df[time_cols] = df[time_cols].apply(lambda x: pd.to_datetime(x, format='%I:%M %p').dt.strftime('%H:%M'))\n",
    "\n",
    "    duration_cols = [col for col in df.columns if col.endswith('_duration')]\n",
    "    df[duration_cols] = df[duration_cols].applymap(lambda x: pd.to_timedelta(x.replace('h', ' hours ').replace('m', ' min')))\n",
    "\n",
    "    return df\n"
   ]
  },
  {
   "attachments": {},
   "cell_type": "markdown",
   "metadata": {},
   "source": [
    "## 1. Jakarta"
   ]
  },
  {
   "attachments": {},
   "cell_type": "markdown",
   "metadata": {},
   "source": [
    "#### Initial dataframe"
   ]
  },
  {
   "attachments": {},
   "cell_type": "markdown",
   "metadata": {},
   "source": [
    "This dataframe has some missing values such as airline company for the outbound and inbound flights. \n",
    "We have observed that some round-trip flights have 2 different airline companies that we did not take into account. This initial dataframe will not be taken account. "
   ]
  },
  {
   "cell_type": "code",
   "execution_count": 5,
   "metadata": {},
   "outputs": [],
   "source": [
    "dates = [\"14_may_06_PM\", \"15_may_07_AM\", \"15_may_10_AM\", \"15_may_01_PM\", \"15_may_04_PM\", \"15_may_07_PM\"]\n",
    "dates.extend([\"16_may_07_AM\", \"16_may_10_AM\", \"16_may_01_PM\", \"16_may_04_PM\", \"16_may_07_PM\"])\n",
    "dates.extend([\"17_may_07_AM\", \"17_may_10_AM\"])"
   ]
  },
  {
   "cell_type": "code",
   "execution_count": 6,
   "metadata": {},
   "outputs": [],
   "source": [
    "# Initial dataframe without in_airline_company and out_airline_company\n",
    "df1 = read_csv_files( \"Jakarta\", dates)"
   ]
  },
  {
   "cell_type": "code",
   "execution_count": 7,
   "metadata": {},
   "outputs": [],
   "source": [
    "df1 = transfomed_df1(df1)"
   ]
  },
  {
   "attachments": {},
   "cell_type": "markdown",
   "metadata": {},
   "source": [
    "#### Second Dataframe"
   ]
  },
  {
   "attachments": {},
   "cell_type": "markdown",
   "metadata": {},
   "source": [
    "This dataframe has taken into account airline companies for the outbound and inbound flights. \n",
    "This dataframe will be the final dataframe that we will use."
   ]
  },
  {
   "cell_type": "code",
   "execution_count": 8,
   "metadata": {},
   "outputs": [],
   "source": [
    "dates_final = [\"20_may_09_AM\", \"20_may_12_PM\"]\n"
   ]
  },
  {
   "cell_type": "code",
   "execution_count": 9,
   "metadata": {},
   "outputs": [],
   "source": [
    "df_jakarta = read_csv_files( \"Jakarta\", dates_final)\n",
    "df_jakarta = transfomed_df2(df_jakarta)"
   ]
  },
  {
   "cell_type": "code",
   "execution_count": 10,
   "metadata": {},
   "outputs": [],
   "source": [
    "# Create a boolean mask to identify rows with different outbound and inbound airlines\n",
    "mask = df_jakarta['out_airline_company'] != df_jakarta['in_airline_company']\n",
    "\n",
    "# Use the mask to get the rows with different outbound and inbound airlines\n",
    "result = df_jakarta[mask]"
   ]
  },
  {
   "cell_type": "code",
   "execution_count": 11,
   "metadata": {},
   "outputs": [],
   "source": [
    "df_jakarta = df_jakarta.loc[df_jakarta['out_airline_company'] == df_jakarta['in_airline_company']]"
   ]
  },
  {
   "cell_type": "code",
   "execution_count": 12,
   "metadata": {},
   "outputs": [],
   "source": [
    "df_jakarta = df_jakarta.drop_duplicates()\n",
    "df_jakarta = df_jakarta.reset_index(drop=True)"
   ]
  },
  {
   "attachments": {},
   "cell_type": "markdown",
   "metadata": {},
   "source": [
    "## 2. Tokyo"
   ]
  },
  {
   "attachments": {},
   "cell_type": "markdown",
   "metadata": {},
   "source": [
    "The daframe for Tokyo will not be taken into account for the simple reason that there is not enough data coming from Qatar Airways. "
   ]
  },
  {
   "cell_type": "code",
   "execution_count": 13,
   "metadata": {},
   "outputs": [],
   "source": [
    "dates = [\"14_may_06_PM\", \"15_may_07_AM\"]\n",
    "df3 = read_csv_files( \"Tokyo\", dates)"
   ]
  },
  {
   "cell_type": "code",
   "execution_count": 14,
   "metadata": {},
   "outputs": [],
   "source": [
    "df3 = df3.loc[df3['arr_city'] != 'CGK']\n",
    "df3 = df3.reset_index(drop=True)"
   ]
  },
  {
   "cell_type": "code",
   "execution_count": 15,
   "metadata": {},
   "outputs": [],
   "source": [
    "dates = [\"15_may_10_AM\", \"15_may_01_PM\", \"15_may_04_PM\", \"15_may_07_PM\"]\n",
    "dates.extend([\"16_may_07_AM\",\"16_may_10_AM\",\"16_may_01_PM\",\"16_may_04_PM\", \"16_may_07_PM\"])\n",
    "dates.extend([\"17_may_07_AM\", \"17_may_10_AM\"])"
   ]
  },
  {
   "cell_type": "code",
   "execution_count": 16,
   "metadata": {},
   "outputs": [],
   "source": [
    "df4 = read_csv_files( \"Tokyo\", dates)\n",
    "df3 = pd.concat([df3, df4], ignore_index=True)"
   ]
  },
  {
   "cell_type": "code",
   "execution_count": 17,
   "metadata": {},
   "outputs": [],
   "source": [
    "Tokyo_cleaned_data= transfomed_df1(df3)"
   ]
  },
  {
   "cell_type": "code",
   "execution_count": 18,
   "metadata": {},
   "outputs": [],
   "source": [
    "dates_3 = [\"17_may_02_PM\"]\n",
    "df5 = read_csv_files( \"Tokyo\", dates_3)"
   ]
  },
  {
   "cell_type": "code",
   "execution_count": 19,
   "metadata": {},
   "outputs": [],
   "source": [
    "df5 = transfomed_df2(df5)\n",
    "dif = df5['out_airline_company'] != df5['in_airline_company']\n",
    "result = df5[dif]"
   ]
  },
  {
   "cell_type": "code",
   "execution_count": 20,
   "metadata": {},
   "outputs": [
    {
     "data": {
      "text/plain": [
       "0"
      ]
     },
     "execution_count": 20,
     "metadata": {},
     "output_type": "execute_result"
    }
   ],
   "source": [
    "qatar_rows = df5[(df5['out_airline_company'] == 'Qatar Airways') & (df5['in_airline_company'] == 'Qatar Airways')]\n",
    "len(qatar_rows)"
   ]
  },
  {
   "attachments": {},
   "cell_type": "markdown",
   "metadata": {},
   "source": [
    "## 3. Bangkok"
   ]
  },
  {
   "attachments": {},
   "cell_type": "markdown",
   "metadata": {},
   "source": [
    "This dataframe will be used to model and visualize our trends"
   ]
  },
  {
   "cell_type": "code",
   "execution_count": 21,
   "metadata": {},
   "outputs": [],
   "source": [
    "df_bangkok = read_csv_files(\"Bangkok\", dates_final)\n",
    "df_bangkok = transfomed_df2(df_bangkok)"
   ]
  },
  {
   "cell_type": "code",
   "execution_count": 22,
   "metadata": {},
   "outputs": [
    {
     "data": {
      "text/html": [
       "<div>\n",
       "<style scoped>\n",
       "    .dataframe tbody tr th:only-of-type {\n",
       "        vertical-align: middle;\n",
       "    }\n",
       "\n",
       "    .dataframe tbody tr th {\n",
       "        vertical-align: top;\n",
       "    }\n",
       "\n",
       "    .dataframe thead th {\n",
       "        text-align: right;\n",
       "    }\n",
       "</style>\n",
       "<table border=\"1\" class=\"dataframe\">\n",
       "  <thead>\n",
       "    <tr style=\"text-align: right;\">\n",
       "      <th></th>\n",
       "      <th>out_airline_company</th>\n",
       "      <th>in_airline_company</th>\n",
       "      <th>dep_city</th>\n",
       "      <th>arr_city</th>\n",
       "      <th>out_dep_date</th>\n",
       "      <th>out_dep_time</th>\n",
       "      <th>out_duration</th>\n",
       "      <th>out_stop_num</th>\n",
       "      <th>out_arr_date</th>\n",
       "      <th>out_arr_time</th>\n",
       "      <th>in_dep_date</th>\n",
       "      <th>in_dep_time</th>\n",
       "      <th>in_duration</th>\n",
       "      <th>in_stop_num</th>\n",
       "      <th>in_arr_date</th>\n",
       "      <th>in_arr_time</th>\n",
       "      <th>hour_scrap</th>\n",
       "      <th>day_scrap</th>\n",
       "      <th>ticket_price</th>\n",
       "      <th>currency</th>\n",
       "    </tr>\n",
       "  </thead>\n",
       "  <tbody>\n",
       "    <tr>\n",
       "      <th>0</th>\n",
       "      <td>Qatar Airways</td>\n",
       "      <td>Qatar Airways</td>\n",
       "      <td>BRU</td>\n",
       "      <td>BKK</td>\n",
       "      <td>2023-08-01</td>\n",
       "      <td>09:05</td>\n",
       "      <td>0 days 17:35:00</td>\n",
       "      <td>1</td>\n",
       "      <td>2023-08-02</td>\n",
       "      <td>07:40</td>\n",
       "      <td>2023-08-15</td>\n",
       "      <td>20:00</td>\n",
       "      <td>0 days 23:10:00</td>\n",
       "      <td>1</td>\n",
       "      <td>2023-08-16</td>\n",
       "      <td>14:10</td>\n",
       "      <td>9</td>\n",
       "      <td>20</td>\n",
       "      <td>1368.04</td>\n",
       "      <td>€</td>\n",
       "    </tr>\n",
       "    <tr>\n",
       "      <th>1</th>\n",
       "      <td>Qatar Airways</td>\n",
       "      <td>Qatar Airways</td>\n",
       "      <td>BRU</td>\n",
       "      <td>BKK</td>\n",
       "      <td>2023-08-01</td>\n",
       "      <td>09:05</td>\n",
       "      <td>0 days 17:00:00</td>\n",
       "      <td>1</td>\n",
       "      <td>2023-08-02</td>\n",
       "      <td>07:05</td>\n",
       "      <td>2023-08-15</td>\n",
       "      <td>20:00</td>\n",
       "      <td>0 days 23:10:00</td>\n",
       "      <td>1</td>\n",
       "      <td>2023-08-16</td>\n",
       "      <td>14:10</td>\n",
       "      <td>9</td>\n",
       "      <td>20</td>\n",
       "      <td>1390.65</td>\n",
       "      <td>€</td>\n",
       "    </tr>\n",
       "    <tr>\n",
       "      <th>2</th>\n",
       "      <td>Qatar Airways</td>\n",
       "      <td>Qatar Airways</td>\n",
       "      <td>BRU</td>\n",
       "      <td>BKK</td>\n",
       "      <td>2023-08-01</td>\n",
       "      <td>09:05</td>\n",
       "      <td>0 days 17:35:00</td>\n",
       "      <td>1</td>\n",
       "      <td>2023-08-02</td>\n",
       "      <td>07:40</td>\n",
       "      <td>2023-08-15</td>\n",
       "      <td>08:45</td>\n",
       "      <td>1 days 10:25:00</td>\n",
       "      <td>1</td>\n",
       "      <td>2023-08-16</td>\n",
       "      <td>14:10</td>\n",
       "      <td>9</td>\n",
       "      <td>20</td>\n",
       "      <td>1290.26</td>\n",
       "      <td>€</td>\n",
       "    </tr>\n",
       "    <tr>\n",
       "      <th>3</th>\n",
       "      <td>Qatar Airways</td>\n",
       "      <td>Qatar Airways</td>\n",
       "      <td>BRU</td>\n",
       "      <td>BKK</td>\n",
       "      <td>2023-08-01</td>\n",
       "      <td>09:05</td>\n",
       "      <td>0 days 17:00:00</td>\n",
       "      <td>1</td>\n",
       "      <td>2023-08-02</td>\n",
       "      <td>07:05</td>\n",
       "      <td>2023-08-15</td>\n",
       "      <td>08:45</td>\n",
       "      <td>1 days 10:25:00</td>\n",
       "      <td>1</td>\n",
       "      <td>2023-08-16</td>\n",
       "      <td>14:10</td>\n",
       "      <td>9</td>\n",
       "      <td>20</td>\n",
       "      <td>1312.36</td>\n",
       "      <td>€</td>\n",
       "    </tr>\n",
       "    <tr>\n",
       "      <th>4</th>\n",
       "      <td>Lufthansa</td>\n",
       "      <td>Lufthansa</td>\n",
       "      <td>BRU</td>\n",
       "      <td>BKK</td>\n",
       "      <td>2023-08-01</td>\n",
       "      <td>19:00</td>\n",
       "      <td>0 days 14:40:00</td>\n",
       "      <td>2</td>\n",
       "      <td>2023-08-02</td>\n",
       "      <td>14:40</td>\n",
       "      <td>2023-08-15</td>\n",
       "      <td>23:00</td>\n",
       "      <td>0 days 14:10:00</td>\n",
       "      <td>1</td>\n",
       "      <td>2023-08-16</td>\n",
       "      <td>08:10</td>\n",
       "      <td>9</td>\n",
       "      <td>20</td>\n",
       "      <td>1987.74</td>\n",
       "      <td>€</td>\n",
       "    </tr>\n",
       "    <tr>\n",
       "      <th>...</th>\n",
       "      <td>...</td>\n",
       "      <td>...</td>\n",
       "      <td>...</td>\n",
       "      <td>...</td>\n",
       "      <td>...</td>\n",
       "      <td>...</td>\n",
       "      <td>...</td>\n",
       "      <td>...</td>\n",
       "      <td>...</td>\n",
       "      <td>...</td>\n",
       "      <td>...</td>\n",
       "      <td>...</td>\n",
       "      <td>...</td>\n",
       "      <td>...</td>\n",
       "      <td>...</td>\n",
       "      <td>...</td>\n",
       "      <td>...</td>\n",
       "      <td>...</td>\n",
       "      <td>...</td>\n",
       "      <td>...</td>\n",
       "    </tr>\n",
       "    <tr>\n",
       "      <th>108</th>\n",
       "      <td>Lufthansa</td>\n",
       "      <td>Lufthansa</td>\n",
       "      <td>BRU</td>\n",
       "      <td>BKK</td>\n",
       "      <td>2023-08-01</td>\n",
       "      <td>14:40</td>\n",
       "      <td>0 days 19:00:00</td>\n",
       "      <td>2</td>\n",
       "      <td>2023-08-02</td>\n",
       "      <td>14:40</td>\n",
       "      <td>2023-08-15</td>\n",
       "      <td>23:00</td>\n",
       "      <td>0 days 18:25:00</td>\n",
       "      <td>2</td>\n",
       "      <td>2023-08-16</td>\n",
       "      <td>12:25</td>\n",
       "      <td>12</td>\n",
       "      <td>20</td>\n",
       "      <td>2048.36</td>\n",
       "      <td>€</td>\n",
       "    </tr>\n",
       "    <tr>\n",
       "      <th>109</th>\n",
       "      <td>Lufthansa</td>\n",
       "      <td>Lufthansa</td>\n",
       "      <td>BRU</td>\n",
       "      <td>BKK</td>\n",
       "      <td>2023-08-01</td>\n",
       "      <td>16:30</td>\n",
       "      <td>0 days 16:40:00</td>\n",
       "      <td>1</td>\n",
       "      <td>2023-08-02</td>\n",
       "      <td>14:10</td>\n",
       "      <td>2023-08-15</td>\n",
       "      <td>23:00</td>\n",
       "      <td>0 days 19:55:00</td>\n",
       "      <td>2</td>\n",
       "      <td>2023-08-16</td>\n",
       "      <td>13:55</td>\n",
       "      <td>12</td>\n",
       "      <td>20</td>\n",
       "      <td>2194.89</td>\n",
       "      <td>€</td>\n",
       "    </tr>\n",
       "    <tr>\n",
       "      <th>110</th>\n",
       "      <td>Lufthansa</td>\n",
       "      <td>Lufthansa</td>\n",
       "      <td>BRU</td>\n",
       "      <td>BKK</td>\n",
       "      <td>2023-08-01</td>\n",
       "      <td>16:30</td>\n",
       "      <td>0 days 16:40:00</td>\n",
       "      <td>1</td>\n",
       "      <td>2023-08-02</td>\n",
       "      <td>14:10</td>\n",
       "      <td>2023-08-15</td>\n",
       "      <td>23:00</td>\n",
       "      <td>0 days 19:55:00</td>\n",
       "      <td>2</td>\n",
       "      <td>2023-08-16</td>\n",
       "      <td>13:55</td>\n",
       "      <td>12</td>\n",
       "      <td>20</td>\n",
       "      <td>2048.36</td>\n",
       "      <td>€</td>\n",
       "    </tr>\n",
       "    <tr>\n",
       "      <th>111</th>\n",
       "      <td>Lufthansa</td>\n",
       "      <td>Lufthansa</td>\n",
       "      <td>BRU</td>\n",
       "      <td>BKK</td>\n",
       "      <td>2023-08-01</td>\n",
       "      <td>14:40</td>\n",
       "      <td>0 days 18:30:00</td>\n",
       "      <td>2</td>\n",
       "      <td>2023-08-02</td>\n",
       "      <td>14:10</td>\n",
       "      <td>2023-08-15</td>\n",
       "      <td>23:00</td>\n",
       "      <td>0 days 19:00:00</td>\n",
       "      <td>1</td>\n",
       "      <td>2023-08-16</td>\n",
       "      <td>13:00</td>\n",
       "      <td>12</td>\n",
       "      <td>20</td>\n",
       "      <td>2194.89</td>\n",
       "      <td>€</td>\n",
       "    </tr>\n",
       "    <tr>\n",
       "      <th>112</th>\n",
       "      <td>Lufthansa</td>\n",
       "      <td>Lufthansa</td>\n",
       "      <td>BRU</td>\n",
       "      <td>BKK</td>\n",
       "      <td>2023-08-01</td>\n",
       "      <td>13:45</td>\n",
       "      <td>0 days 19:25:00</td>\n",
       "      <td>1</td>\n",
       "      <td>2023-08-02</td>\n",
       "      <td>14:10</td>\n",
       "      <td>2023-08-15</td>\n",
       "      <td>23:00</td>\n",
       "      <td>0 days 18:25:00</td>\n",
       "      <td>2</td>\n",
       "      <td>2023-08-16</td>\n",
       "      <td>12:25</td>\n",
       "      <td>12</td>\n",
       "      <td>20</td>\n",
       "      <td>2194.89</td>\n",
       "      <td>€</td>\n",
       "    </tr>\n",
       "  </tbody>\n",
       "</table>\n",
       "<p>113 rows × 20 columns</p>\n",
       "</div>"
      ],
      "text/plain": [
       "    out_airline_company in_airline_company dep_city arr_city out_dep_date  \\\n",
       "0         Qatar Airways      Qatar Airways      BRU      BKK   2023-08-01   \n",
       "1         Qatar Airways      Qatar Airways      BRU      BKK   2023-08-01   \n",
       "2         Qatar Airways      Qatar Airways      BRU      BKK   2023-08-01   \n",
       "3         Qatar Airways      Qatar Airways      BRU      BKK   2023-08-01   \n",
       "4             Lufthansa          Lufthansa      BRU      BKK   2023-08-01   \n",
       "..                  ...                ...      ...      ...          ...   \n",
       "108           Lufthansa          Lufthansa      BRU      BKK   2023-08-01   \n",
       "109           Lufthansa          Lufthansa      BRU      BKK   2023-08-01   \n",
       "110           Lufthansa          Lufthansa      BRU      BKK   2023-08-01   \n",
       "111           Lufthansa          Lufthansa      BRU      BKK   2023-08-01   \n",
       "112           Lufthansa          Lufthansa      BRU      BKK   2023-08-01   \n",
       "\n",
       "    out_dep_time    out_duration out_stop_num out_arr_date out_arr_time  \\\n",
       "0          09:05 0 days 17:35:00            1   2023-08-02        07:40   \n",
       "1          09:05 0 days 17:00:00            1   2023-08-02        07:05   \n",
       "2          09:05 0 days 17:35:00            1   2023-08-02        07:40   \n",
       "3          09:05 0 days 17:00:00            1   2023-08-02        07:05   \n",
       "4          19:00 0 days 14:40:00            2   2023-08-02        14:40   \n",
       "..           ...             ...          ...          ...          ...   \n",
       "108        14:40 0 days 19:00:00            2   2023-08-02        14:40   \n",
       "109        16:30 0 days 16:40:00            1   2023-08-02        14:10   \n",
       "110        16:30 0 days 16:40:00            1   2023-08-02        14:10   \n",
       "111        14:40 0 days 18:30:00            2   2023-08-02        14:10   \n",
       "112        13:45 0 days 19:25:00            1   2023-08-02        14:10   \n",
       "\n",
       "    in_dep_date in_dep_time     in_duration in_stop_num in_arr_date  \\\n",
       "0    2023-08-15       20:00 0 days 23:10:00           1  2023-08-16   \n",
       "1    2023-08-15       20:00 0 days 23:10:00           1  2023-08-16   \n",
       "2    2023-08-15       08:45 1 days 10:25:00           1  2023-08-16   \n",
       "3    2023-08-15       08:45 1 days 10:25:00           1  2023-08-16   \n",
       "4    2023-08-15       23:00 0 days 14:10:00           1  2023-08-16   \n",
       "..          ...         ...             ...         ...         ...   \n",
       "108  2023-08-15       23:00 0 days 18:25:00           2  2023-08-16   \n",
       "109  2023-08-15       23:00 0 days 19:55:00           2  2023-08-16   \n",
       "110  2023-08-15       23:00 0 days 19:55:00           2  2023-08-16   \n",
       "111  2023-08-15       23:00 0 days 19:00:00           1  2023-08-16   \n",
       "112  2023-08-15       23:00 0 days 18:25:00           2  2023-08-16   \n",
       "\n",
       "    in_arr_time  hour_scrap  day_scrap  ticket_price currency  \n",
       "0         14:10           9         20       1368.04        €  \n",
       "1         14:10           9         20       1390.65        €  \n",
       "2         14:10           9         20       1290.26        €  \n",
       "3         14:10           9         20       1312.36        €  \n",
       "4         08:10           9         20       1987.74        €  \n",
       "..          ...         ...        ...           ...      ...  \n",
       "108       12:25          12         20       2048.36        €  \n",
       "109       13:55          12         20       2194.89        €  \n",
       "110       13:55          12         20       2048.36        €  \n",
       "111       13:00          12         20       2194.89        €  \n",
       "112       12:25          12         20       2194.89        €  \n",
       "\n",
       "[113 rows x 20 columns]"
      ]
     },
     "execution_count": 22,
     "metadata": {},
     "output_type": "execute_result"
    }
   ],
   "source": [
    "df_bangkok = df_bangkok.loc[df_bangkok['out_airline_company'] == df_bangkok['in_airline_company']]\n",
    "df_bangkok = df_bangkok.drop_duplicates()\n",
    "df_bangkok = df_bangkok.dropna()\n",
    "df_bangkok = df_bangkok.reset_index(drop=True)\n",
    "df_bangkok"
   ]
  }
 ],
 "metadata": {
  "kernelspec": {
   "display_name": "Python 3",
   "language": "python",
   "name": "python3"
  },
  "language_info": {
   "codemirror_mode": {
    "name": "ipython",
    "version": 3
   },
   "file_extension": ".py",
   "mimetype": "text/x-python",
   "name": "python",
   "nbconvert_exporter": "python",
   "pygments_lexer": "ipython3",
   "version": "3.11.1"
  },
  "orig_nbformat": 4
 },
 "nbformat": 4,
 "nbformat_minor": 2
}
