{
 "cells": [
  {
   "attachments": {},
   "cell_type": "markdown",
   "metadata": {},
   "source": [
    "# Report Project"
   ]
  },
  {
   "attachments": {},
   "cell_type": "markdown",
   "metadata": {},
   "source": [
    "## Abstract"
   ]
  },
  {
   "attachments": {},
   "cell_type": "markdown",
   "metadata": {},
   "source": [
    "The goal of this project is to develop a model that can accurately predict the prices of round-trip airline tickets from Lufthansa and Swiss airlines to Sao Paulo and New York City. By determining the optimal time to purchase tickets for each destination, it is hoped that significant savings can be achieved, allowing for the maximization of the travel budget. To accomplish this, historical data on ticket prices and other relevant factors such as holidays will be analyzed in order to identify patterns and trends that can be used to forecast future ticket prices. This project is expected to provide valuable experience in working with time series data and developing predictive models, while also uncovering practical ways to save money on air travel during peak travel times."
   ]
  },
  {
   "attachments": {},
   "cell_type": "markdown",
   "metadata": {},
   "source": [
    "Keywords: Destinations, Historical data, Ticket prices, Patterns, Trends, Forecasting, Time series data, Predictive models."
   ]
  },
  {
   "attachments": {},
   "cell_type": "markdown",
   "metadata": {},
   "source": [
    "## Introduction"
   ]
  },
  {
   "attachments": {},
   "cell_type": "markdown",
   "metadata": {},
   "source": [
    "As students, we are constantly seeking opportunities to maximise our limited budgets. One area where we identified potential for cost savings is air travel, particularly during peak travel times such as holidays. During these periods, ticket prices can increase\n",
    "significantly, making it challenging for us to afford travel for visiting family or taking vacations.\n",
    "\n",
    "With this in mind, we decided to undertake a project to develop a model capable of predicting the prices of round-trip tickets from Lufthansa and Swiss airlines to São Paulo and New York City. By analysing historical data on ticket prices, we aim to identify patterns and trends that can assist us in forecasting future ticket prices. Utilising this information, our goal is to determine the optimal time to purchase a ticket for each destination, allowing us to save money and make the most of our travel budget.\n",
    "\n",
    "Through this project, we hope to gain valuable experience in working with time series data and developing predictive models while also discovering practical ways to save money on air travel during peak travel times. By focusing on two specific airlines\n",
    "and destinations, we aim to develop a model that is both accurate and applicable to our travel needs.\n",
    "\n",
    "In addition, it is expected that this project will yield valuable insights into the factors that influence ticket prices for these specific airlines and destinations. By creating a practical tool for predicting future ticket prices, it is hoped that travelers and students like us can make informed decisions about when to purchase tickets in order to minimize costs and maximize their travel budgets."
   ]
  },
  {
   "attachments": {},
   "cell_type": "markdown",
   "metadata": {},
   "source": [
    "## Research questions/hypothesis"
   ]
  },
  {
   "attachments": {},
   "cell_type": "markdown",
   "metadata": {},
   "source": [
    "The objective of this study is to create a model that can predict the prices of round-trip tickets for Lufthansa and Swiss flights to Sao Paulo and NYC. The first hypothesis posits that historical ticket prices for these flights exhibit identifiable patterns and trends. By examining ticket price data over time, it is anticipated that these patterns can be discerned and used to forecast future prices.\n",
    "\n",
    "To evaluate this hypothesis, historical ticket price data and other relevant factors will be analyzed to identify patterns and trends. This analysis will employ statistical methods to reveal relationships between ticket prices and other variables such as the time at which flight ticket data is collected. The second hypothesis proposes that the time at which flight ticket data is collected significantly impacts ticket prices. It is anticipated that collecting data at certain times during the week will result in lower ticket prices.\n",
    "\n",
    "The third hypothesis asserts that a model trained on historical data can accurately predict future ticket prices. To test these hypotheses, a predictive model will be created using machine learning techniques to forecast future ticket prices based on historical data. This model will consider a variety of factors known to affect ticket prices, including the time at which flight ticket data is collected and airline-specific factors.\n",
    "\n",
    "The research questions are: What are the primary factors that influence ticket prices for Lufthansa and Swiss flights to Sao Paulo and NYC? How does the time at which flight ticket data is collected impact ticket prices? When is the optimal time to collect flight ticket data to minimize cost? And how accurately can future ticket prices be predicted using a model trained on historical data?\n",
    "\n",
    "In order to answer these questions, the study will involve collecting and analyzing large amounts of data on ticket prices and other relevant factors. This data will be used to train and evaluate the predictive model, allowing us to determine its accuracy and effectiveness in forecasting future ticket prices. By identifying the key factors that influence ticket prices and determining the optimal time to collect flight ticket data, we hope to provide valuable insights for travelers looking to save money on air travel."
   ]
  },
  {
   "attachments": {},
   "cell_type": "markdown",
   "metadata": {},
   "source": [
    "## Data Sources"
   ]
  },
  {
   "attachments": {},
   "cell_type": "markdown",
   "metadata": {},
   "source": [
    "In this project, data was collected from the online travel booking platform booking.com. This platform was chosen due to its extensive coverage of flights from Lufthansa and Swiss airlines to Sao Paulo and NYC. Data collection was conducted on a daily basis, with observations recorded every 2 hours between 8 am and 10 pm. This schedule was chosen to capture variations in ticket prices throughout the day. In total, 11619 data points were collected over the course of the project.\n",
    "\n",
    "The data collected includes a range of variables relevant to the research questions. These include the price for round-trip tickets for the specified destinations using Lufthansa and Swiss airlines, as well as the departure and arrival times/dates for both the outbound and inbound flights. Additionally, data on the duration of the outbound and inbound flights and the number of stopovers for both flights were recorded. Since the weight allowance for luggage is consistent across both airlines, this variable was not included in the data collection.\n",
    "\n",
    "Furthermore, the time at which each observation was recorded was also noted in order to facilitate analysis of trends in ticket prices relative to the day/time of the week. This information is expected to provide valuable insights into how ticket prices vary over time.\n",
    "\n",
    "By analyzing this comprehensive dataset, it is anticipated that patterns and trends can be identified that will aid in predicting future ticket prices for these specific airlines and destinations. The data collected will be used to train a predictive model that can forecast future ticket prices with a high degree of accuracy. This model will be a valuable tool for travelers seeking to minimize costs and maximize their travel budgets."
   ]
  },
  {
   "attachments": {},
   "cell_type": "markdown",
   "metadata": {},
   "source": [
    "## Data Work"
   ]
  },
  {
   "attachments": {},
   "cell_type": "markdown",
   "metadata": {},
   "source": [
    "The initial phase of our methodology involves the collection of data pertaining to ticket prices for Lufthansa and Swiss flights to Sao Paulo and New York City. To achieve this objective, we will utilize the Selenium web automation tool to extract ticket price data from the airlines’ websites. Selenium is a robust tool that facilitates the automation of web browser interactions, enabling us to visit websites, input flight information, and retrieve ticket price data in an automated fashion.\n",
    "\n",
    "Data collection will occur at regular intervals, with ticket price data being collected every 2 hours from 8 am to 10 pm daily. This frequent data collection will enable us to capture changes in ticket prices over time, providing us with a rich dataset for our analysis.\n",
    "\n",
    "Once the data has been collected, it will be converted into a structured format using CSV (Comma-Separated Values) files. The data for each destination will be stored in separate folders: one for flights from Brussels to Sao Paulo (bxl_to_sao) and one for flights from Brussels to New York City (bxl_to_nyc). Each CSV file will contain information on ticket prices, flight dates, and other relevant factors.\n",
    "\n",
    "Furthermore, we will clean the collected data using the Pandas library in Python. This process includes checking the data for missing or incorrect values and ensuring that it has been correctly collected for the chosen destinations and airlines. We will then store the cleaned data in data frames, which are two-dimensional data structures that enable us to easily manipulate and analyze the data.\n",
    "\n",
    "After cleaning the data, we will preprocess it to prepare it for analysis. This step involves transforming the data into a format that can be easily analyzed. For example, we may convert categorical variables into numerical values or normalize the data to ensure that all variables are on a similar scale. By cleaning and preprocessing the data, we will ensure that it is accurate and ready for analysis. This will enable us to identify patterns and trends in the data, which will form the basis of our predictive model. By using tools such as Pandas and Python, we will be able to efficiently manipulate and analyze large amounts of data.\n",
    "\n",
    "Once preprocessing is complete, we will visualize the data using Seaborn and Matplotlib libraries in Python. These libraries provide powerful tools for creating informative and attractive visualizations of complex datasets. By visualizing the data, we can gain a better understanding of patterns and trends in ticket prices over time."
   ]
  }
 ],
 "metadata": {
  "kernelspec": {
   "display_name": "Python 3",
   "language": "python",
   "name": "python3"
  },
  "language_info": {
   "codemirror_mode": {
    "name": "ipython",
    "version": 3
   },
   "file_extension": ".py",
   "mimetype": "text/x-python",
   "name": "python",
   "nbconvert_exporter": "python",
   "pygments_lexer": "ipython3",
   "version": "3.11.1"
  },
  "orig_nbformat": 4
 },
 "nbformat": 4,
 "nbformat_minor": 2
}
