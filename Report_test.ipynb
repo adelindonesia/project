{
 "cells": [
  {
   "attachments": {},
   "cell_type": "markdown",
   "metadata": {},
   "source": [
    "# Report Project"
   ]
  },
  {
   "attachments": {},
   "cell_type": "markdown",
   "metadata": {},
   "source": [
    "## Abstract"
   ]
  },
  {
   "attachments": {},
   "cell_type": "markdown",
   "metadata": {},
   "source": [
    "The goal of this study is to develop a model that can accurately predict the prices of round-trip airline tickets from Lufthansa and Swiss airlines to Sao Paulo and New York City. By determining the optimal time to purchase tickets for each destination, it is hoped that significant savings can be achieved, allowing for the maximization of the travel budget. To accomplish this, historical data on ticket prices and other relevant factors such as holidays will be analyzed in order to identify patterns and trends that can be used to forecast future ticket prices. This project is expected to provide valuable experience in working with time series data and developing predictive models, while also uncovering practical ways to save money on air travel during peak travel times."
   ]
  },
  {
   "attachments": {},
   "cell_type": "markdown",
   "metadata": {},
   "source": [
    "Keywords: Destinations, Historical data, Ticket prices, Patterns, Trends, Fore-\n",
    "casting, Time series data, Predictive models"
   ]
  },
  {
   "attachments": {},
   "cell_type": "markdown",
   "metadata": {},
   "source": [
    "## Introduction"
   ]
  },
  {
   "attachments": {},
   "cell_type": "markdown",
   "metadata": {},
   "source": [
    "As students, we are constantly seeking opportunities to maximize our limited budgets. One area where we identified potential for cost savings is air travel, particularly during peak travel times such as holidays. During these periods, ticket prices can increase significantly, making it challenging for us to afford travel for visiting family or taking vacations.\n",
    "\n",
    "\n",
    "With this in mind, we decided to undertake a project to develop a model capable of predicting the prices of round-trip tickets from \n",
    "two different airlines and two different destinations. By analyzing historical data on ticket prices and other relevant factors such \n",
    "as holidays, we aim to identify patterns and trends that can assist us in forecasting future ticket prices. Utilizing this information, our goal is to determine the optimal time to purchase a ticket for each destination, allowing us to save money and make the most of our travel budget.\n",
    "\n",
    "Through this project, we hope to gain valuable experience in working with time series data and developing predictive models while also discovering practical ways to save money on air travel during peak travel times.\n"
   ]
  },
  {
   "attachments": {},
   "cell_type": "markdown",
   "metadata": {},
   "source": [
    "## Research questions/hypothesis"
   ]
  },
  {
   "attachments": {},
   "cell_type": "markdown",
   "metadata": {},
   "source": [
    "In this project, we aim to develop a model for predicting the prices of round-trip tickets for Lufthansa and Swiss flights to Sao Paulo and NYC. Our hypotheses are that there are identifiable patterns and trends in historical ticket prices for these flights, that holidays and other external factors have a significant impact on ticket prices, and that it is possible to accurately predict future ticket prices using a model trained on historical data. To test these hypotheses, we will analyze historical data on ticket prices and other relevant factors to identify patterns and trends, and develop a predictive model to forecast future ticket prices. Our research questions include: What are the key factors that affect ticket prices for Lufthansa and Swiss flights to Sao Paulo and NYC? How do holidays and other external factors impact ticket prices? What is the optimal time to purchase a ticket to minimize cost? And how accurately can future ticket prices be predicted using a model trained on historical data? Through this project, we hope to gain valuable insights into the factors that affect ticket prices for these specific airlines and destinations, and develop a practical tool for predicting future ticket prices."
   ]
  }
 ],
 "metadata": {
  "kernelspec": {
   "display_name": "Python 3",
   "language": "python",
   "name": "python3"
  },
  "language_info": {
   "codemirror_mode": {
    "name": "ipython",
    "version": 3
   },
   "file_extension": ".py",
   "mimetype": "text/x-python",
   "name": "python",
   "nbconvert_exporter": "python",
   "pygments_lexer": "ipython3",
   "version": "3.11.1"
  },
  "orig_nbformat": 4
 },
 "nbformat": 4,
 "nbformat_minor": 2
}
