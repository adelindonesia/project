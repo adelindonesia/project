{
 "cells": [
  {
   "cell_type": "code",
   "execution_count": 1,
   "metadata": {},
   "outputs": [],
   "source": [
    "import pandas as pd"
   ]
  },
  {
   "cell_type": "code",
   "execution_count": 2,
   "metadata": {},
   "outputs": [],
   "source": [
    "%run data_cleaning.ipynb"
   ]
  },
  {
   "cell_type": "code",
   "execution_count": 3,
   "metadata": {},
   "outputs": [
    {
     "data": {
      "text/plain": [
       "out_airline_company             object\n",
       "in_airline_company              object\n",
       "dep_city                        object\n",
       "arr_city                        object\n",
       "out_dep_date            datetime64[ns]\n",
       "out_dep_time                    object\n",
       "out_duration           timedelta64[ns]\n",
       "out_stop_num                    object\n",
       "out_arr_date            datetime64[ns]\n",
       "out_arr_time                    object\n",
       "in_dep_date             datetime64[ns]\n",
       "in_dep_time                     object\n",
       "in_duration            timedelta64[ns]\n",
       "in_stop_num                     object\n",
       "in_arr_date             datetime64[ns]\n",
       "in_arr_time                     object\n",
       "hour_scrap                       int64\n",
       "day_scrap                        int64\n",
       "ticket_price                   float64\n",
       "currency                        object\n",
       "dtype: object"
      ]
     },
     "execution_count": 3,
     "metadata": {},
     "output_type": "execute_result"
    }
   ],
   "source": [
    "df_jakarta.dtypes"
   ]
  },
  {
   "cell_type": "code",
   "execution_count": 8,
   "metadata": {},
   "outputs": [
    {
     "data": {
      "text/plain": [
       "count           169\n",
       "unique            2\n",
       "top       Lufthansa\n",
       "freq            164\n",
       "Name: out_airline_company, dtype: object"
      ]
     },
     "execution_count": 8,
     "metadata": {},
     "output_type": "execute_result"
    }
   ],
   "source": [
    "df_jakarta[\"out_airline_company\"].describe()"
   ]
  },
  {
   "cell_type": "code",
   "execution_count": 9,
   "metadata": {},
   "outputs": [
    {
     "data": {
      "text/plain": [
       "count           113\n",
       "unique            2\n",
       "top       Lufthansa\n",
       "freq            101\n",
       "Name: out_airline_company, dtype: object"
      ]
     },
     "execution_count": 9,
     "metadata": {},
     "output_type": "execute_result"
    }
   ],
   "source": [
    "df_bangkok[\"out_airline_company\"].describe()"
   ]
  }
 ],
 "metadata": {
  "kernelspec": {
   "display_name": "Python 3",
   "language": "python",
   "name": "python3"
  },
  "language_info": {
   "codemirror_mode": {
    "name": "ipython",
    "version": 3
   },
   "file_extension": ".py",
   "mimetype": "text/x-python",
   "name": "python",
   "nbconvert_exporter": "python",
   "pygments_lexer": "ipython3",
   "version": "3.11.1"
  },
  "orig_nbformat": 4
 },
 "nbformat": 4,
 "nbformat_minor": 2
}
